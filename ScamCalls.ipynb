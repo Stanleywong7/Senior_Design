{
 "cells": [
  {
   "cell_type": "code",
   "execution_count": 259,
   "metadata": {
    "colab": {},
    "colab_type": "code",
    "id": "O-VuIOqFeDOT"
   },
   "outputs": [],
   "source": [
    "# Senior Design 2, Fall 2019 @ CCNY\n",
    "# Team Member & Name: Team 5 (4 member team)\n",
    "\n",
    "# PRAVEENA SHRESTHA \n",
    "# ABDUR RAFEY\n",
    "# STANLEY WONG\n",
    "# JOHN CHEN"
   ]
  },
  {
   "cell_type": "code",
   "execution_count": 316,
   "metadata": {
    "colab": {},
    "colab_type": "code",
    "id": "soTxACqWcldW"
   },
   "outputs": [],
   "source": [
    "\n",
    "import numpy as np\n",
    "import pandas as pd\n",
    "import matplotlib.pyplot as plt\n",
    "\n",
    "from sklearn.linear_model import LinearRegression\n",
    "from sklearn.metrics import mean_squared_error\n",
    "from sklearn.ensemble import RandomForestRegressor\n",
    "import statsmodels.api as sm\n",
    "import warnings\n",
    "%matplotlib inline"
   ]
  },
  {
   "cell_type": "code",
   "execution_count": 317,
   "metadata": {
    "colab": {},
    "colab_type": "code",
    "id": "KxNrcMMJdG2_"
   },
   "outputs": [],
   "source": [
    "train_df = pd.read_csv('dnc_complaint_numbers_2019-11-25.csv', index_col=0)\n",
    "test_df = pd.read_csv('dnc_complaint_numbers_2019-10-21.csv', index_col=0)\n",
    "submit1_df = pd.read_csv('dnc_complaint_numbers_2019-11-11.csv', index_col=0)\n"
   ]
  },
  {
   "cell_type": "code",
   "execution_count": 318,
   "metadata": {
    "colab": {
     "base_uri": "https://localhost:8080/",
     "height": 561
    },
    "colab_type": "code",
    "id": "fo3v0bcieapF",
    "outputId": "75f99848-b258-4d94-bc4d-274d6ab02d08",
    "scrolled": true
   },
   "outputs": [
    {
     "data": {
      "text/html": [
       "<div>\n",
       "<style scoped>\n",
       "    .dataframe tbody tr th:only-of-type {\n",
       "        vertical-align: middle;\n",
       "    }\n",
       "\n",
       "    .dataframe tbody tr th {\n",
       "        vertical-align: top;\n",
       "    }\n",
       "\n",
       "    .dataframe thead th {\n",
       "        text-align: right;\n",
       "    }\n",
       "</style>\n",
       "<table border=\"1\" class=\"dataframe\">\n",
       "  <thead>\n",
       "    <tr style=\"text-align: right;\">\n",
       "      <th></th>\n",
       "      <th>Created_Date</th>\n",
       "      <th>Violation_Date</th>\n",
       "      <th>Consumer_City</th>\n",
       "      <th>Consumer_State</th>\n",
       "      <th>Consumer_Area_Code</th>\n",
       "      <th>Subject</th>\n",
       "      <th>Recorded_Message_Or_Robocall</th>\n",
       "    </tr>\n",
       "    <tr>\n",
       "      <th>Company_Phone_Number</th>\n",
       "      <th></th>\n",
       "      <th></th>\n",
       "      <th></th>\n",
       "      <th></th>\n",
       "      <th></th>\n",
       "      <th></th>\n",
       "      <th></th>\n",
       "    </tr>\n",
       "  </thead>\n",
       "  <tbody>\n",
       "    <tr>\n",
       "      <th>8005687894</th>\n",
       "      <td>2019-11-22 13:33:46</td>\n",
       "      <td>2019-11-22 10:25:00</td>\n",
       "      <td>Oakland</td>\n",
       "      <td>5.0</td>\n",
       "      <td>510</td>\n",
       "      <td>Dropped call or no message</td>\n",
       "      <td>1.0</td>\n",
       "    </tr>\n",
       "    <tr>\n",
       "      <th>8019023100</th>\n",
       "      <td>2019-11-22 16:44:03</td>\n",
       "      <td>2019-11-22 11:46:00</td>\n",
       "      <td>Paoli</td>\n",
       "      <td>14.0</td>\n",
       "      <td>812</td>\n",
       "      <td>Other</td>\n",
       "      <td>0.0</td>\n",
       "    </tr>\n",
       "    <tr>\n",
       "      <th>4107702920</th>\n",
       "      <td>2019-11-23 16:56:18</td>\n",
       "      <td>2019-11-23 13:10:00</td>\n",
       "      <td>GOLDTHWAITE</td>\n",
       "      <td>43.0</td>\n",
       "      <td>970</td>\n",
       "      <td>Other</td>\n",
       "      <td>1.0</td>\n",
       "    </tr>\n",
       "    <tr>\n",
       "      <th>6365292700</th>\n",
       "      <td>2019-11-22 13:25:49</td>\n",
       "      <td>2019-11-22 12:21:00</td>\n",
       "      <td>Liberty</td>\n",
       "      <td>25.0</td>\n",
       "      <td>816</td>\n",
       "      <td>No Subject Provided</td>\n",
       "      <td>1.0</td>\n",
       "    </tr>\n",
       "    <tr>\n",
       "      <th>3109127417</th>\n",
       "      <td>2019-11-22 12:07:38</td>\n",
       "      <td>2019-11-21 17:40:00</td>\n",
       "      <td>Roseville</td>\n",
       "      <td>5.0</td>\n",
       "      <td>916</td>\n",
       "      <td>No Subject Provided</td>\n",
       "      <td>1.0</td>\n",
       "    </tr>\n",
       "    <tr>\n",
       "      <th>8006698488</th>\n",
       "      <td>2019-11-22 15:27:49</td>\n",
       "      <td>2019-11-22 14:47:00</td>\n",
       "      <td>Alexandria</td>\n",
       "      <td>46.0</td>\n",
       "      <td>703</td>\n",
       "      <td>Reducing your debt (credit cards, mortgage, st...</td>\n",
       "      <td>1.0</td>\n",
       "    </tr>\n",
       "    <tr>\n",
       "      <th>4108266461</th>\n",
       "      <td>2019-11-24 09:19:02</td>\n",
       "      <td>2019-11-23 08:00:00</td>\n",
       "      <td>Red hill</td>\n",
       "      <td>38.0</td>\n",
       "      <td>302</td>\n",
       "      <td>Other</td>\n",
       "      <td>1.0</td>\n",
       "    </tr>\n",
       "    <tr>\n",
       "      <th>2295245112</th>\n",
       "      <td>2019-11-22 19:24:56</td>\n",
       "      <td>2019-11-22 18:38:00</td>\n",
       "      <td>Dallas</td>\n",
       "      <td>10.0</td>\n",
       "      <td>678</td>\n",
       "      <td>Reducing your debt (credit cards, mortgage, st...</td>\n",
       "      <td>1.0</td>\n",
       "    </tr>\n",
       "    <tr>\n",
       "      <th>8007291324</th>\n",
       "      <td>2019-11-22 12:05:03</td>\n",
       "      <td>2019-11-22 08:53:00</td>\n",
       "      <td>spring valley</td>\n",
       "      <td>5.0</td>\n",
       "      <td>619</td>\n",
       "      <td>No Subject Provided</td>\n",
       "      <td>1.0</td>\n",
       "    </tr>\n",
       "    <tr>\n",
       "      <th>9084023064</th>\n",
       "      <td>2019-11-22 20:55:20</td>\n",
       "      <td>2019-11-22 19:37:00</td>\n",
       "      <td>Bethesda</td>\n",
       "      <td>20.0</td>\n",
       "      <td>301</td>\n",
       "      <td>Calls pretending to be government, businesses,...</td>\n",
       "      <td>1.0</td>\n",
       "    </tr>\n",
       "    <tr>\n",
       "      <th>9544295750</th>\n",
       "      <td>2019-11-23 18:47:36</td>\n",
       "      <td>2019-11-23 18:30:00</td>\n",
       "      <td>Little Compton</td>\n",
       "      <td>39.0</td>\n",
       "      <td>401</td>\n",
       "      <td>Warranties  &amp; protection plans</td>\n",
       "      <td>1.0</td>\n",
       "    </tr>\n",
       "    <tr>\n",
       "      <th>3304928003</th>\n",
       "      <td>2019-11-22 15:45:18</td>\n",
       "      <td>2019-11-21 12:26:00</td>\n",
       "      <td>Canton</td>\n",
       "      <td>35.0</td>\n",
       "      <td>330</td>\n",
       "      <td>No Subject Provided</td>\n",
       "      <td>0.0</td>\n",
       "    </tr>\n",
       "    <tr>\n",
       "      <th>4694216064</th>\n",
       "      <td>2019-11-22 18:10:54</td>\n",
       "      <td>2019-11-14 12:12:00</td>\n",
       "      <td>Austin</td>\n",
       "      <td>43.0</td>\n",
       "      <td>512</td>\n",
       "      <td>No Subject Provided</td>\n",
       "      <td>1.0</td>\n",
       "    </tr>\n",
       "    <tr>\n",
       "      <th>9287738981</th>\n",
       "      <td>2019-11-23 18:12:55</td>\n",
       "      <td>2019-11-07 13:02:00</td>\n",
       "      <td>Flagstaff</td>\n",
       "      <td>3.0</td>\n",
       "      <td>928</td>\n",
       "      <td>No Subject Provided</td>\n",
       "      <td>1.0</td>\n",
       "    </tr>\n",
       "    <tr>\n",
       "      <th>9402800880</th>\n",
       "      <td>2019-11-22 22:58:15</td>\n",
       "      <td>2019-11-22 11:31:00</td>\n",
       "      <td>WICHITA FALLS</td>\n",
       "      <td>43.0</td>\n",
       "      <td>940</td>\n",
       "      <td>No Subject Provided</td>\n",
       "      <td>1.0</td>\n",
       "    </tr>\n",
       "    <tr>\n",
       "      <th>8882498924</th>\n",
       "      <td>2019-11-22 11:52:57</td>\n",
       "      <td>2019-11-22 08:34:00</td>\n",
       "      <td>Rathdrum</td>\n",
       "      <td>12.0</td>\n",
       "      <td>208</td>\n",
       "      <td>Calls pretending to be government, businesses,...</td>\n",
       "      <td>1.0</td>\n",
       "    </tr>\n",
       "    <tr>\n",
       "      <th>NaN</th>\n",
       "      <td>2019-11-22 14:04:28</td>\n",
       "      <td>2019-11-22 14:00:00</td>\n",
       "      <td>Tampa</td>\n",
       "      <td>12.0</td>\n",
       "      <td>208</td>\n",
       "      <td>Computer  &amp; technical support</td>\n",
       "      <td>1.0</td>\n",
       "    </tr>\n",
       "    <tr>\n",
       "      <th>6146345587</th>\n",
       "      <td>2019-11-22 09:46:38</td>\n",
       "      <td>2019-11-21 15:58:00</td>\n",
       "      <td>DUBLIN</td>\n",
       "      <td>35.0</td>\n",
       "      <td>614</td>\n",
       "      <td>Calls pretending to be government, businesses,...</td>\n",
       "      <td>1.0</td>\n",
       "    </tr>\n",
       "    <tr>\n",
       "      <th>3193021275</th>\n",
       "      <td>2019-11-24 23:04:34</td>\n",
       "      <td>2019-11-20 14:34:00</td>\n",
       "      <td>Athens</td>\n",
       "      <td>22.0</td>\n",
       "      <td>269</td>\n",
       "      <td>Work from home  &amp; other ways to make money</td>\n",
       "      <td>1.0</td>\n",
       "    </tr>\n",
       "    <tr>\n",
       "      <th>2165450908</th>\n",
       "      <td>2019-11-22 16:52:59</td>\n",
       "      <td>2019-11-22 13:33:00</td>\n",
       "      <td>Los Angeles</td>\n",
       "      <td>5.0</td>\n",
       "      <td>507</td>\n",
       "      <td>Medical  &amp; prescriptions</td>\n",
       "      <td>1.0</td>\n",
       "    </tr>\n",
       "  </tbody>\n",
       "</table>\n",
       "</div>"
      ],
      "text/plain": [
       "                             Created_Date       Violation_Date  \\\n",
       "Company_Phone_Number                                             \n",
       "8005687894            2019-11-22 13:33:46  2019-11-22 10:25:00   \n",
       "8019023100            2019-11-22 16:44:03  2019-11-22 11:46:00   \n",
       "4107702920            2019-11-23 16:56:18  2019-11-23 13:10:00   \n",
       "6365292700            2019-11-22 13:25:49  2019-11-22 12:21:00   \n",
       "3109127417            2019-11-22 12:07:38  2019-11-21 17:40:00   \n",
       "8006698488            2019-11-22 15:27:49  2019-11-22 14:47:00   \n",
       "4108266461            2019-11-24 09:19:02  2019-11-23 08:00:00   \n",
       "2295245112            2019-11-22 19:24:56  2019-11-22 18:38:00   \n",
       "8007291324            2019-11-22 12:05:03  2019-11-22 08:53:00   \n",
       "9084023064            2019-11-22 20:55:20  2019-11-22 19:37:00   \n",
       "9544295750            2019-11-23 18:47:36  2019-11-23 18:30:00   \n",
       "3304928003            2019-11-22 15:45:18  2019-11-21 12:26:00   \n",
       "4694216064            2019-11-22 18:10:54  2019-11-14 12:12:00   \n",
       "9287738981            2019-11-23 18:12:55  2019-11-07 13:02:00   \n",
       "9402800880            2019-11-22 22:58:15  2019-11-22 11:31:00   \n",
       "8882498924            2019-11-22 11:52:57  2019-11-22 08:34:00   \n",
       "NaN                   2019-11-22 14:04:28  2019-11-22 14:00:00   \n",
       "6146345587            2019-11-22 09:46:38  2019-11-21 15:58:00   \n",
       "3193021275            2019-11-24 23:04:34  2019-11-20 14:34:00   \n",
       "2165450908            2019-11-22 16:52:59  2019-11-22 13:33:00   \n",
       "\n",
       "                       Consumer_City  Consumer_State  Consumer_Area_Code  \\\n",
       "Company_Phone_Number                                                       \n",
       "8005687894                   Oakland             5.0                 510   \n",
       "8019023100                     Paoli            14.0                 812   \n",
       "4107702920               GOLDTHWAITE            43.0                 970   \n",
       "6365292700                   Liberty            25.0                 816   \n",
       "3109127417                 Roseville             5.0                 916   \n",
       "8006698488                Alexandria            46.0                 703   \n",
       "4108266461                  Red hill            38.0                 302   \n",
       "2295245112                    Dallas            10.0                 678   \n",
       "8007291324             spring valley             5.0                 619   \n",
       "9084023064                  Bethesda            20.0                 301   \n",
       "9544295750            Little Compton            39.0                 401   \n",
       "3304928003                    Canton            35.0                 330   \n",
       "4694216064                    Austin            43.0                 512   \n",
       "9287738981                 Flagstaff             3.0                 928   \n",
       "9402800880             WICHITA FALLS            43.0                 940   \n",
       "8882498924                  Rathdrum            12.0                 208   \n",
       "NaN                            Tampa            12.0                 208   \n",
       "6146345587                    DUBLIN            35.0                 614   \n",
       "3193021275                    Athens            22.0                 269   \n",
       "2165450908               Los Angeles             5.0                 507   \n",
       "\n",
       "                                                                Subject  \\\n",
       "Company_Phone_Number                                                      \n",
       "8005687894                                   Dropped call or no message   \n",
       "8019023100                                                        Other   \n",
       "4107702920                                                        Other   \n",
       "6365292700                                          No Subject Provided   \n",
       "3109127417                                          No Subject Provided   \n",
       "8006698488            Reducing your debt (credit cards, mortgage, st...   \n",
       "4108266461                                                        Other   \n",
       "2295245112            Reducing your debt (credit cards, mortgage, st...   \n",
       "8007291324                                          No Subject Provided   \n",
       "9084023064            Calls pretending to be government, businesses,...   \n",
       "9544295750                               Warranties  & protection plans   \n",
       "3304928003                                          No Subject Provided   \n",
       "4694216064                                          No Subject Provided   \n",
       "9287738981                                          No Subject Provided   \n",
       "9402800880                                          No Subject Provided   \n",
       "8882498924            Calls pretending to be government, businesses,...   \n",
       "NaN                                       Computer  & technical support   \n",
       "6146345587            Calls pretending to be government, businesses,...   \n",
       "3193021275                   Work from home  & other ways to make money   \n",
       "2165450908                                     Medical  & prescriptions   \n",
       "\n",
       "                      Recorded_Message_Or_Robocall  \n",
       "Company_Phone_Number                                \n",
       "8005687894                                     1.0  \n",
       "8019023100                                     0.0  \n",
       "4107702920                                     1.0  \n",
       "6365292700                                     1.0  \n",
       "3109127417                                     1.0  \n",
       "8006698488                                     1.0  \n",
       "4108266461                                     1.0  \n",
       "2295245112                                     1.0  \n",
       "8007291324                                     1.0  \n",
       "9084023064                                     1.0  \n",
       "9544295750                                     1.0  \n",
       "3304928003                                     0.0  \n",
       "4694216064                                     1.0  \n",
       "9287738981                                     1.0  \n",
       "9402800880                                     1.0  \n",
       "8882498924                                     1.0  \n",
       "NaN                                            1.0  \n",
       "6146345587                                     1.0  \n",
       "3193021275                                     1.0  \n",
       "2165450908                                     1.0  "
      ]
     },
     "execution_count": 318,
     "metadata": {},
     "output_type": "execute_result"
    }
   ],
   "source": [
    "# Array using Consumer_States Provided\n",
    "StateArray = ['Alabama','Alaska','Arizona','Arkansas','California','Colorado','Connecticut','Delaware','Florida','Georgia',\n",
    "             'Hawaii','Idaho','Illinois','Indiana','Iowa','Kansas','Kentucky','Louisiana','Maine','Maryland',\n",
    "             'Massachusetts','Michigan','Minnesota','Mississippi','Missouri','Montana','Nebraska','Nevada','New Hampshire','New Jersey',\n",
    "             'New Mexico','New York','North Carolina','North Dakota','Ohio','Oklahoma','Oregon','Pennsylvania','Rhode Island',\n",
    "             'South Carolina','South Dakota','Tennessee','Texas','Utah','Vermont','Virginia','Washington','West Virginia','Wisconsin','Wyoming',\n",
    "              'Ontario, Canada','District of Columbia','Virgin Islands','Puerto Rico','Northern Mariana Islands','US Military Pacific']\n",
    "\n",
    "# Array corresponding Consumer_State number \n",
    "CorrStateNum = [1,2,3,4,5,6,7,8,9,10,\n",
    "               11,12,13,14,15,16,17,18,19,20,\n",
    "               21,22,23,24,25,26,27,28,29,30,\n",
    "               31,32,33,34,35,36,37,38,39,40,\n",
    "               41,42,43,44,45,46,47,48,49,50,\n",
    "                51,52,53,54,55,56\n",
    "               ]\n",
    "\n",
    "# REPLACE Consumer_State Array with Corresponding Consumer_State Number Array\n",
    "train_df = train_df.replace(StateArray, CorrStateNum)\n",
    "test_df = test_df.replace(StateArray, CorrStateNum)\n",
    "submit1_df = submit1_df.replace(StateArray, CorrStateNum)\n",
    "\n",
    "modifiedtrain = train_df\n",
    "modifiedtest = test_df\n",
    "modifiedsubmit = submit1_df\n",
    "\n",
    "\n",
    "# Replace scam call strings with integers: 1 -> Yes, 0 -> No\n",
    "modifiedtrain = train_df['Recorded_Message_Or_Robocall'] = train_df['Recorded_Message_Or_Robocall'].replace('Y', 1)\n",
    "modifiedtrain = train_df['Recorded_Message_Or_Robocall'] = train_df['Recorded_Message_Or_Robocall'].replace('N', 0)\n",
    "\n",
    "modifiedtest = test_df['Recorded_Message_Or_Robocall'] = test_df['Recorded_Message_Or_Robocall'].replace('Y', 1)\n",
    "modifiedtest = test_df['Recorded_Message_Or_Robocall'] = test_df['Recorded_Message_Or_Robocall'].replace('N', 0)\n",
    "\n",
    "modifiedsubmit = submit1_df['Recorded_Message_Or_Robocall'] = submit1_df['Recorded_Message_Or_Robocall'].replace('Y', 1)\n",
    "modifiedsubmit = submit1_df['Recorded_Message_Or_Robocall'] = submit1_df['Recorded_Message_Or_Robocall'].replace('N', 0)\n",
    "\n",
    "# remove all null values\n",
    "modifiedtrain = train_df.dropna()\n",
    "modifiedtest = test_df.dropna()\n",
    "modifiedsubmit = submit1_df.dropna()\n",
    "\n",
    "# Display 20 samples\n",
    "modifiedtrain.sample(20)\n"
   ]
  },
  {
   "cell_type": "code",
   "execution_count": 319,
   "metadata": {
    "colab": {},
    "colab_type": "code",
    "id": "-X3jrpKcejGN"
   },
   "outputs": [],
   "source": [
    "# extract usable features\n",
    "feature_cols = [ \n",
    "    'Recorded_Message_Or_Robocall',\n",
    "    'Consumer_State'\n",
    "]\n",
    "train_features = modifiedtrain[feature_cols] \n",
    "\n",
    "\n",
    "# construct target vector, dependent variables\n",
    "train_target = modifiedtrain['Consumer_Area_Code']"
   ]
  },
  {
   "cell_type": "code",
   "execution_count": 320,
   "metadata": {
    "colab": {
     "base_uri": "https://localhost:8080/",
     "height": 34
    },
    "colab_type": "code",
    "id": "qHM5wTapezYC",
    "outputId": "0a3478a1-bb49-435e-c790-da2bfea64489"
   },
   "outputs": [
    {
     "data": {
      "text/plain": [
       "LinearRegression(copy_X=True, fit_intercept=True, n_jobs=1, normalize=False)"
      ]
     },
     "execution_count": 320,
     "metadata": {},
     "output_type": "execute_result"
    }
   ],
   "source": [
    "# using linear regression method\n",
    "lreg = LinearRegression()\n",
    "lreg.fit(train_features, train_target)\n"
   ]
  },
  {
   "cell_type": "code",
   "execution_count": 321,
   "metadata": {
    "colab": {
     "base_uri": "https://localhost:8080/",
     "height": 51
    },
    "colab_type": "code",
    "id": "bSqe9pQde99S",
    "outputId": "ed874fff-23b7-4d66-b5b8-609abe03fa80"
   },
   "outputs": [
    {
     "name": "stdout",
     "output_type": "stream",
     "text": [
      "Prediction using Linear Regression train data against Test1:\n",
      "Mean Squared Error for Test1 using Linear Regression: 56450.267243459275\n"
     ]
    },
    {
     "name": "stderr",
     "output_type": "stream",
     "text": [
      "/Users/PJ/anaconda3/lib/python3.6/site-packages/ipykernel_launcher.py:4: SettingWithCopyWarning: \n",
      "A value is trying to be set on a copy of a slice from a DataFrame.\n",
      "Try using .loc[row_indexer,col_indexer] = value instead\n",
      "\n",
      "See the caveats in the documentation: http://pandas.pydata.org/pandas-docs/stable/indexing.html#indexing-view-versus-copy\n",
      "  after removing the cwd from sys.path.\n"
     ]
    }
   ],
   "source": [
    "test_features = modifiedtest[feature_cols] \n",
    "\n",
    "# construct predictions \n",
    "modifiedtest['predicted'] = lreg.predict(test_features)\n",
    "print(\"Prediction using Linear Regression train data against Test1:\")\n",
    "\n",
    "print(\"Mean Squared Error for Test1 using Linear Regression:\",mean_squared_error(modifiedtest['Consumer_Area_Code'], modifiedtest['predicted']))"
   ]
  },
  {
   "cell_type": "code",
   "execution_count": 322,
   "metadata": {
    "colab": {
     "base_uri": "https://localhost:8080/",
     "height": 85
    },
    "colab_type": "code",
    "id": "ke4GX8JxyCes",
    "outputId": "750d4bd7-55aa-4a5e-d03b-7712ea27affe"
   },
   "outputs": [
    {
     "name": "stdout",
     "output_type": "stream",
     "text": [
      "Prediction using Random Forest Regressor train data against Test1:\n",
      "Mean Squared Error for Test1 using Random Forest Regressor: 47148.55534737281\n"
     ]
    },
    {
     "name": "stderr",
     "output_type": "stream",
     "text": [
      "/Users/PJ/anaconda3/lib/python3.6/site-packages/ipykernel_launcher.py:5: SettingWithCopyWarning: \n",
      "A value is trying to be set on a copy of a slice from a DataFrame.\n",
      "Try using .loc[row_indexer,col_indexer] = value instead\n",
      "\n",
      "See the caveats in the documentation: http://pandas.pydata.org/pandas-docs/stable/indexing.html#indexing-view-versus-copy\n",
      "  \"\"\"\n"
     ]
    }
   ],
   "source": [
    "rf = RandomForestRegressor()\n",
    "rf.fit(train_features, train_target)\n",
    "\n",
    "# construct predictions \n",
    "modifiedtest['predicted'] = rf.predict(test_features)\n",
    "print(\"Prediction using Random Forest Regressor train data against Test1:\")\n",
    "print(\"Mean Squared Error for Test1 using Random Forest Regressor:\",mean_squared_error(modifiedtest['Consumer_Area_Code'], modifiedtest['predicted']))"
   ]
  },
  {
   "cell_type": "code",
   "execution_count": 323,
   "metadata": {
    "colab": {
     "base_uri": "https://localhost:8080/",
     "height": 136
    },
    "colab_type": "code",
    "id": "sLymzfY4fXs5",
    "outputId": "2fff8cb3-87da-45af-fd86-fa3c3f1a1458"
   },
   "outputs": [
    {
     "data": {
      "text/plain": [
       "RandomForestRegressor(bootstrap=True, criterion='mse', max_depth=None,\n",
       "           max_features='auto', max_leaf_nodes=None,\n",
       "           min_impurity_decrease=0.0, min_impurity_split=None,\n",
       "           min_samples_leaf=1, min_samples_split=2,\n",
       "           min_weight_fraction_leaf=0.0, n_estimators=10, n_jobs=1,\n",
       "           oob_score=False, random_state=None, verbose=0, warm_start=False)"
      ]
     },
     "execution_count": 323,
     "metadata": {},
     "output_type": "execute_result"
    }
   ],
   "source": [
    "#joining training data and test1 data to incredase total training data\n",
    "master_df = modifiedtrain.append(modifiedtest, sort=False)\n",
    "\n",
    "master_features = master_df[feature_cols].fillna(master_df[feature_cols].median(), axis=0)\n",
    "master_target = master_df['Consumer_Area_Code']\n",
    "#linear regression\n",
    "#lreg.fit(master_features, master_target)\n",
    "\n",
    "#Random Forest Regressor\n",
    "rf.fit(master_features, master_target)"
   ]
  },
  {
   "cell_type": "code",
   "execution_count": 324,
   "metadata": {
    "colab": {
     "base_uri": "https://localhost:8080/",
     "height": 390
    },
    "colab_type": "code",
    "id": "BMSktbrisDxE",
    "outputId": "31d80735-a915-4270-c09a-fc293b1d1001"
   },
   "outputs": [
    {
     "data": {
      "text/html": [
       "<div>\n",
       "<style scoped>\n",
       "    .dataframe tbody tr th:only-of-type {\n",
       "        vertical-align: middle;\n",
       "    }\n",
       "\n",
       "    .dataframe tbody tr th {\n",
       "        vertical-align: top;\n",
       "    }\n",
       "\n",
       "    .dataframe thead th {\n",
       "        text-align: right;\n",
       "    }\n",
       "</style>\n",
       "<table border=\"1\" class=\"dataframe\">\n",
       "  <thead>\n",
       "    <tr style=\"text-align: right;\">\n",
       "      <th></th>\n",
       "      <th>Recorded_Message_Or_Robocall</th>\n",
       "      <th>Consumer_State</th>\n",
       "    </tr>\n",
       "    <tr>\n",
       "      <th>Company_Phone_Number</th>\n",
       "      <th></th>\n",
       "      <th></th>\n",
       "    </tr>\n",
       "  </thead>\n",
       "  <tbody>\n",
       "    <tr>\n",
       "      <th>8008362002</th>\n",
       "      <td>1.0</td>\n",
       "      <td>20</td>\n",
       "    </tr>\n",
       "    <tr>\n",
       "      <th>5713471655</th>\n",
       "      <td>1.0</td>\n",
       "      <td>3</td>\n",
       "    </tr>\n",
       "    <tr>\n",
       "      <th>NaN</th>\n",
       "      <td>1.0</td>\n",
       "      <td>35</td>\n",
       "    </tr>\n",
       "    <tr>\n",
       "      <th>2674403244</th>\n",
       "      <td>0.0</td>\n",
       "      <td>46</td>\n",
       "    </tr>\n",
       "    <tr>\n",
       "      <th>3128477152</th>\n",
       "      <td>1.0</td>\n",
       "      <td>46</td>\n",
       "    </tr>\n",
       "    <tr>\n",
       "      <th>6367488759</th>\n",
       "      <td>1.0</td>\n",
       "      <td>38</td>\n",
       "    </tr>\n",
       "    <tr>\n",
       "      <th>8008962272</th>\n",
       "      <td>0.0</td>\n",
       "      <td>32</td>\n",
       "    </tr>\n",
       "    <tr>\n",
       "      <th>7343759249</th>\n",
       "      <td>1.0</td>\n",
       "      <td>22</td>\n",
       "    </tr>\n",
       "    <tr>\n",
       "      <th>7205389701</th>\n",
       "      <td>0.0</td>\n",
       "      <td>9</td>\n",
       "    </tr>\n",
       "    <tr>\n",
       "      <th>2392205313</th>\n",
       "      <td>1.0</td>\n",
       "      <td>9</td>\n",
       "    </tr>\n",
       "    <tr>\n",
       "      <th>5713677217</th>\n",
       "      <td>1.0</td>\n",
       "      <td>46</td>\n",
       "    </tr>\n",
       "    <tr>\n",
       "      <th>4402017225</th>\n",
       "      <td>1.0</td>\n",
       "      <td>43</td>\n",
       "    </tr>\n",
       "    <tr>\n",
       "      <th>8882439127</th>\n",
       "      <td>1.0</td>\n",
       "      <td>5</td>\n",
       "    </tr>\n",
       "    <tr>\n",
       "      <th>2246495392</th>\n",
       "      <td>0.0</td>\n",
       "      <td>13</td>\n",
       "    </tr>\n",
       "    <tr>\n",
       "      <th>8003103779</th>\n",
       "      <td>1.0</td>\n",
       "      <td>32</td>\n",
       "    </tr>\n",
       "    <tr>\n",
       "      <th>3343934454</th>\n",
       "      <td>1.0</td>\n",
       "      <td>1</td>\n",
       "    </tr>\n",
       "    <tr>\n",
       "      <th>8442706621</th>\n",
       "      <td>1.0</td>\n",
       "      <td>9</td>\n",
       "    </tr>\n",
       "    <tr>\n",
       "      <th>8706673217</th>\n",
       "      <td>1.0</td>\n",
       "      <td>9</td>\n",
       "    </tr>\n",
       "    <tr>\n",
       "      <th>6156167565</th>\n",
       "      <td>0.0</td>\n",
       "      <td>42</td>\n",
       "    </tr>\n",
       "    <tr>\n",
       "      <th>2092383064</th>\n",
       "      <td>1.0</td>\n",
       "      <td>5</td>\n",
       "    </tr>\n",
       "  </tbody>\n",
       "</table>\n",
       "</div>"
      ],
      "text/plain": [
       "                      Recorded_Message_Or_Robocall  Consumer_State\n",
       "Company_Phone_Number                                              \n",
       "8008362002                                     1.0              20\n",
       "5713471655                                     1.0               3\n",
       "NaN                                            1.0              35\n",
       "2674403244                                     0.0              46\n",
       "3128477152                                     1.0              46\n",
       "6367488759                                     1.0              38\n",
       "8008962272                                     0.0              32\n",
       "7343759249                                     1.0              22\n",
       "7205389701                                     0.0               9\n",
       "2392205313                                     1.0               9\n",
       "5713677217                                     1.0              46\n",
       "4402017225                                     1.0              43\n",
       "8882439127                                     1.0               5\n",
       "2246495392                                     0.0              13\n",
       "8003103779                                     1.0              32\n",
       "3343934454                                     1.0               1\n",
       "8442706621                                     1.0               9\n",
       "8706673217                                     1.0               9\n",
       "6156167565                                     0.0              42\n",
       "2092383064                                     1.0               5"
      ]
     },
     "execution_count": 324,
     "metadata": {},
     "output_type": "execute_result"
    }
   ],
   "source": [
    "#handling missing data\n",
    "submit1_features = modifiedsubmit[feature_cols].fillna(master_df[feature_cols].median(), axis=0)\n",
    "submit1_features.sample(20)\n",
    "# 1 -> Yes, 0 -> No"
   ]
  },
  {
   "cell_type": "code",
   "execution_count": 325,
   "metadata": {
    "colab": {},
    "colab_type": "code",
    "id": "YdRG3bHqgM0A"
   },
   "outputs": [
    {
     "name": "stderr",
     "output_type": "stream",
     "text": [
      "/Users/PJ/anaconda3/lib/python3.6/site-packages/ipykernel_launcher.py:2: SettingWithCopyWarning: \n",
      "A value is trying to be set on a copy of a slice from a DataFrame.\n",
      "Try using .loc[row_indexer,col_indexer] = value instead\n",
      "\n",
      "See the caveats in the documentation: http://pandas.pydata.org/pandas-docs/stable/indexing.html#indexing-view-versus-copy\n",
      "  \n"
     ]
    }
   ],
   "source": [
    "#submit1_features = submit1_df[feature_cols].fillna(submit1_df[feature_cols].median(), axis=0)\n",
    "modifiedsubmit['Consumer_Area_Code'] = rf.predict(submit1_features)\n",
    "modifiedsubmit['Consumer_Area_Code'].to_csv('test2.csv', header=True)\n",
    "\n",
    "#these part has to be changed\n",
    "#submit1_df['median_CAC'] = np.ones(modifiedsubmit['Consumer_Area_Code'].shape) * master_target.median()\n",
    "#print(\"Prediction of rent for Test2\")\n",
    "#print(\"Mean Squared error for Test2: \",mean_squared_error(submit1_df['rent'], submit1_df['median_CAC']))"
   ]
  },
  {
   "cell_type": "code",
   "execution_count": 332,
   "metadata": {
    "colab": {
     "base_uri": "https://localhost:8080/",
     "height": 221
    },
    "colab_type": "code",
    "id": "tClzyIsEhbVN",
    "outputId": "ee91d2ac-ee5a-451e-ae96-711e9a70a1e7"
   },
   "outputs": [
    {
     "data": {
      "text/plain": [
       "Company_Phone_Number\n",
       "2814837447    619.276493\n",
       "7193474115    598.394998\n",
       "5126383415    281.916358\n",
       "4108854472    597.870038\n",
       "8006227747    706.133158\n",
       "8336068362    600.052429\n",
       "2149976245    354.445323\n",
       "7736996525    375.935341\n",
       "8007950405    632.385615\n",
       "2126104468    655.536204\n",
       "4694232782    647.131684\n",
       "3525297662    647.131684\n",
       "9525293008    549.564032\n",
       "9547649204    632.385615\n",
       "3309079057    505.119003\n",
       "8888852457    655.536204\n",
       "3373485259    727.636478\n",
       "2034464289    598.684967\n",
       "2055283918    306.025617\n",
       "7025336645    598.394998\n",
       "4057590168    581.403556\n",
       "7068305332    601.993776\n",
       "3022662622    306.025617\n",
       "2015754507    632.385615\n",
       "8005456092    598.394998\n",
       "3184020402    605.005933\n",
       "7472120915    655.536204\n",
       "3525770994    542.863808\n",
       "4083587710    655.536204\n",
       "7046803152    804.765425\n",
       "                 ...    \n",
       "8002752273    605.005933\n",
       "9516585598    655.536204\n",
       "9183210091    667.546882\n",
       "6109049672    569.664243\n",
       "6096069030    631.732967\n",
       "8006272198    655.536204\n",
       "2082644591    250.752298\n",
       "3859876972    432.671882\n",
       "9388885202    349.713357\n",
       "9082596019    676.236567\n",
       "7139251517    505.119003\n",
       "7326871858    714.194904\n",
       "2172035094    600.052429\n",
       "5126781030    619.276493\n",
       "5703752071    569.664243\n",
       "7692008135    598.394998\n",
       "3863092378    647.131684\n",
       "5742036183    655.536204\n",
       "3128477154    557.596553\n",
       "8030527657    569.664243\n",
       "835474044     647.131684\n",
       "7079985952    806.739469\n",
       "8009452000    706.133158\n",
       "9739638447    605.005933\n",
       "4086065775    651.579953\n",
       "5034463171    382.285757\n",
       "4026796558    804.765425\n",
       "NaN           557.596553\n",
       "4418543983    505.119003\n",
       "3016280013    375.935341\n",
       "Name: Consumer_Area_Code, Length: 100, dtype: float64"
      ]
     },
     "execution_count": 332,
     "metadata": {},
     "output_type": "execute_result"
    }
   ],
   "source": [
    "modifiedsubmit['Consumer_Area_Code'].sample(100)"
   ]
  },
  {
   "cell_type": "code",
   "execution_count": 331,
   "metadata": {
    "colab": {},
    "colab_type": "code",
    "id": "kkwSzyQkdkXT"
   },
   "outputs": [],
   "source": [
    "# It's taking numbers from the public database\n",
    "# Learning its patterns and creates a \"Spam Phone Number\" based on the dataset\n",
    "# as well as the Consumer_Area_Code\n",
    "\n",
    "# TESTED EACH Company_Phone_Number\n",
    "    # Some phone numbers are randomly generated\n",
    "    # Some already exists within the CSV file\n",
    "        # But area code could be randomly generated\n",
    "    # Some take a specific pattern and generates the rest of the numbers\n",
    "\n",
    "# POSSIBILITY OF THIS DATASET\n",
    "    # False Positive \n",
    "        # With these generated Phone Numbers and Area Codes\n",
    "        # We can have our system compare to see if its a 1 or 0\n",
    "            # 1 = YES scam , 0 = NO scam\n"
   ]
  },
  {
   "cell_type": "code",
   "execution_count": 328,
   "metadata": {
    "colab": {
     "base_uri": "https://localhost:8080/",
     "height": 1000
    },
    "colab_type": "code",
    "id": "175Iw_uO72Mp",
    "outputId": "e92aabc9-96c8-4b9c-e0a3-f6846553a67c"
   },
   "outputs": [
    {
     "data": {
      "image/png": "[encoded data removed]",
      "text/plain": [
       "<Figure size 432x288 with 1 Axes>"
      ]
     },
     "metadata": {},
     "output_type": "display_data"
    },
    {
     "ename": "ValueError",
     "evalue": "scatter requires x column to be numeric",
     "output_type": "error",
     "traceback": [
      "\u001b[0;31m---------------------------------------------------------------------------\u001b[0m",
      "\u001b[0;31mValueError\u001b[0m                                Traceback (most recent call last)",
      "\u001b[0;32m<ipython-input-328-4e75b7193e1e>\u001b[0m in \u001b[0;36m<module>\u001b[0;34m()\u001b[0m\n\u001b[1;32m      4\u001b[0m \u001b[0mplt\u001b[0m\u001b[0;34m.\u001b[0m\u001b[0mshow\u001b[0m\u001b[0;34m(\u001b[0m\u001b[0;34m)\u001b[0m\u001b[0;34m\u001b[0m\u001b[0m\n\u001b[1;32m      5\u001b[0m \u001b[0;34m\u001b[0m\u001b[0m\n\u001b[0;32m----> 6\u001b[0;31m \u001b[0mmodifiedsubmit\u001b[0m\u001b[0;34m.\u001b[0m\u001b[0mplot\u001b[0m\u001b[0;34m(\u001b[0m\u001b[0mkind\u001b[0m\u001b[0;34m=\u001b[0m\u001b[0;34m'scatter'\u001b[0m\u001b[0;34m,\u001b[0m\u001b[0mx\u001b[0m\u001b[0;34m=\u001b[0m\u001b[0;34m'Consumer_State'\u001b[0m\u001b[0;34m,\u001b[0m\u001b[0my\u001b[0m\u001b[0;34m=\u001b[0m\u001b[0;34m'Consumer_Area_Code'\u001b[0m\u001b[0;34m,\u001b[0m\u001b[0mcolor\u001b[0m\u001b[0;34m=\u001b[0m\u001b[0;34m'blue'\u001b[0m\u001b[0;34m)\u001b[0m\u001b[0;34m\u001b[0m\u001b[0m\n\u001b[0m\u001b[1;32m      7\u001b[0m \u001b[0mplt\u001b[0m\u001b[0;34m.\u001b[0m\u001b[0mshow\u001b[0m\u001b[0;34m(\u001b[0m\u001b[0;34m)\u001b[0m\u001b[0;34m\u001b[0m\u001b[0m\n",
      "\u001b[0;32m~/anaconda3/lib/python3.6/site-packages/pandas/plotting/_core.py\u001b[0m in \u001b[0;36m__call__\u001b[0;34m(self, x, y, kind, ax, subplots, sharex, sharey, layout, figsize, use_index, title, grid, legend, style, logx, logy, loglog, xticks, yticks, xlim, ylim, rot, fontsize, colormap, table, yerr, xerr, secondary_y, sort_columns, **kwds)\u001b[0m\n\u001b[1;32m   2939\u001b[0m                           \u001b[0mfontsize\u001b[0m\u001b[0;34m=\u001b[0m\u001b[0mfontsize\u001b[0m\u001b[0;34m,\u001b[0m \u001b[0mcolormap\u001b[0m\u001b[0;34m=\u001b[0m\u001b[0mcolormap\u001b[0m\u001b[0;34m,\u001b[0m \u001b[0mtable\u001b[0m\u001b[0;34m=\u001b[0m\u001b[0mtable\u001b[0m\u001b[0;34m,\u001b[0m\u001b[0;34m\u001b[0m\u001b[0m\n\u001b[1;32m   2940\u001b[0m                           \u001b[0myerr\u001b[0m\u001b[0;34m=\u001b[0m\u001b[0myerr\u001b[0m\u001b[0;34m,\u001b[0m \u001b[0mxerr\u001b[0m\u001b[0;34m=\u001b[0m\u001b[0mxerr\u001b[0m\u001b[0;34m,\u001b[0m \u001b[0msecondary_y\u001b[0m\u001b[0;34m=\u001b[0m\u001b[0msecondary_y\u001b[0m\u001b[0;34m,\u001b[0m\u001b[0;34m\u001b[0m\u001b[0m\n\u001b[0;32m-> 2941\u001b[0;31m                           sort_columns=sort_columns, **kwds)\n\u001b[0m\u001b[1;32m   2942\u001b[0m     \u001b[0m__call__\u001b[0m\u001b[0;34m.\u001b[0m\u001b[0m__doc__\u001b[0m \u001b[0;34m=\u001b[0m \u001b[0mplot_frame\u001b[0m\u001b[0;34m.\u001b[0m\u001b[0m__doc__\u001b[0m\u001b[0;34m\u001b[0m\u001b[0m\n\u001b[1;32m   2943\u001b[0m \u001b[0;34m\u001b[0m\u001b[0m\n",
      "\u001b[0;32m~/anaconda3/lib/python3.6/site-packages/pandas/plotting/_core.py\u001b[0m in \u001b[0;36mplot_frame\u001b[0;34m(data, x, y, kind, ax, subplots, sharex, sharey, layout, figsize, use_index, title, grid, legend, style, logx, logy, loglog, xticks, yticks, xlim, ylim, rot, fontsize, colormap, table, yerr, xerr, secondary_y, sort_columns, **kwds)\u001b[0m\n\u001b[1;32m   1975\u001b[0m                  \u001b[0myerr\u001b[0m\u001b[0;34m=\u001b[0m\u001b[0myerr\u001b[0m\u001b[0;34m,\u001b[0m \u001b[0mxerr\u001b[0m\u001b[0;34m=\u001b[0m\u001b[0mxerr\u001b[0m\u001b[0;34m,\u001b[0m\u001b[0;34m\u001b[0m\u001b[0m\n\u001b[1;32m   1976\u001b[0m                  \u001b[0msecondary_y\u001b[0m\u001b[0;34m=\u001b[0m\u001b[0msecondary_y\u001b[0m\u001b[0;34m,\u001b[0m \u001b[0msort_columns\u001b[0m\u001b[0;34m=\u001b[0m\u001b[0msort_columns\u001b[0m\u001b[0;34m,\u001b[0m\u001b[0;34m\u001b[0m\u001b[0m\n\u001b[0;32m-> 1977\u001b[0;31m                  **kwds)\n\u001b[0m\u001b[1;32m   1978\u001b[0m \u001b[0;34m\u001b[0m\u001b[0m\n\u001b[1;32m   1979\u001b[0m \u001b[0;34m\u001b[0m\u001b[0m\n",
      "\u001b[0;32m~/anaconda3/lib/python3.6/site-packages/pandas/plotting/_core.py\u001b[0m in \u001b[0;36m_plot\u001b[0;34m(data, x, y, subplots, ax, kind, **kwds)\u001b[0m\n\u001b[1;32m   1741\u001b[0m         \u001b[0;32mif\u001b[0m \u001b[0misinstance\u001b[0m\u001b[0;34m(\u001b[0m\u001b[0mdata\u001b[0m\u001b[0;34m,\u001b[0m \u001b[0mABCDataFrame\u001b[0m\u001b[0;34m)\u001b[0m\u001b[0;34m:\u001b[0m\u001b[0;34m\u001b[0m\u001b[0m\n\u001b[1;32m   1742\u001b[0m             plot_obj = klass(data, x=x, y=y, subplots=subplots, ax=ax,\n\u001b[0;32m-> 1743\u001b[0;31m                              kind=kind, **kwds)\n\u001b[0m\u001b[1;32m   1744\u001b[0m         \u001b[0;32melse\u001b[0m\u001b[0;34m:\u001b[0m\u001b[0;34m\u001b[0m\u001b[0m\n\u001b[1;32m   1745\u001b[0m             raise ValueError(\"plot kind %r can only be used for data frames\"\n",
      "\u001b[0;32m~/anaconda3/lib/python3.6/site-packages/pandas/plotting/_core.py\u001b[0m in \u001b[0;36m__init__\u001b[0;34m(self, data, x, y, s, c, **kwargs)\u001b[0m\n\u001b[1;32m    843\u001b[0m             \u001b[0;31m# the handling of this argument later\u001b[0m\u001b[0;34m\u001b[0m\u001b[0;34m\u001b[0m\u001b[0m\n\u001b[1;32m    844\u001b[0m             \u001b[0ms\u001b[0m \u001b[0;34m=\u001b[0m \u001b[0;36m20\u001b[0m\u001b[0;34m\u001b[0m\u001b[0m\n\u001b[0;32m--> 845\u001b[0;31m         \u001b[0msuper\u001b[0m\u001b[0;34m(\u001b[0m\u001b[0mScatterPlot\u001b[0m\u001b[0;34m,\u001b[0m \u001b[0mself\u001b[0m\u001b[0;34m)\u001b[0m\u001b[0;34m.\u001b[0m\u001b[0m__init__\u001b[0m\u001b[0;34m(\u001b[0m\u001b[0mdata\u001b[0m\u001b[0;34m,\u001b[0m \u001b[0mx\u001b[0m\u001b[0;34m,\u001b[0m \u001b[0my\u001b[0m\u001b[0;34m,\u001b[0m \u001b[0ms\u001b[0m\u001b[0;34m=\u001b[0m\u001b[0ms\u001b[0m\u001b[0;34m,\u001b[0m \u001b[0;34m**\u001b[0m\u001b[0mkwargs\u001b[0m\u001b[0;34m)\u001b[0m\u001b[0;34m\u001b[0m\u001b[0m\n\u001b[0m\u001b[1;32m    846\u001b[0m         \u001b[0;32mif\u001b[0m \u001b[0mis_integer\u001b[0m\u001b[0;34m(\u001b[0m\u001b[0mc\u001b[0m\u001b[0;34m)\u001b[0m \u001b[0;32mand\u001b[0m \u001b[0;32mnot\u001b[0m \u001b[0mself\u001b[0m\u001b[0;34m.\u001b[0m\u001b[0mdata\u001b[0m\u001b[0;34m.\u001b[0m\u001b[0mcolumns\u001b[0m\u001b[0;34m.\u001b[0m\u001b[0mholds_integer\u001b[0m\u001b[0;34m(\u001b[0m\u001b[0;34m)\u001b[0m\u001b[0;34m:\u001b[0m\u001b[0;34m\u001b[0m\u001b[0m\n\u001b[1;32m    847\u001b[0m             \u001b[0mc\u001b[0m \u001b[0;34m=\u001b[0m \u001b[0mself\u001b[0m\u001b[0;34m.\u001b[0m\u001b[0mdata\u001b[0m\u001b[0;34m.\u001b[0m\u001b[0mcolumns\u001b[0m\u001b[0;34m[\u001b[0m\u001b[0mc\u001b[0m\u001b[0;34m]\u001b[0m\u001b[0;34m\u001b[0m\u001b[0m\n",
      "\u001b[0;32m~/anaconda3/lib/python3.6/site-packages/pandas/plotting/_core.py\u001b[0m in \u001b[0;36m__init__\u001b[0;34m(self, data, x, y, **kwargs)\u001b[0m\n\u001b[1;32m    818\u001b[0m             \u001b[0my\u001b[0m \u001b[0;34m=\u001b[0m \u001b[0mself\u001b[0m\u001b[0;34m.\u001b[0m\u001b[0mdata\u001b[0m\u001b[0;34m.\u001b[0m\u001b[0mcolumns\u001b[0m\u001b[0;34m[\u001b[0m\u001b[0my\u001b[0m\u001b[0;34m]\u001b[0m\u001b[0;34m\u001b[0m\u001b[0m\n\u001b[1;32m    819\u001b[0m         \u001b[0;32mif\u001b[0m \u001b[0mlen\u001b[0m\u001b[0;34m(\u001b[0m\u001b[0mself\u001b[0m\u001b[0;34m.\u001b[0m\u001b[0mdata\u001b[0m\u001b[0;34m[\u001b[0m\u001b[0mx\u001b[0m\u001b[0;34m]\u001b[0m\u001b[0;34m.\u001b[0m\u001b[0m_get_numeric_data\u001b[0m\u001b[0;34m(\u001b[0m\u001b[0;34m)\u001b[0m\u001b[0;34m)\u001b[0m \u001b[0;34m==\u001b[0m \u001b[0;36m0\u001b[0m\u001b[0;34m:\u001b[0m\u001b[0;34m\u001b[0m\u001b[0m\n\u001b[0;32m--> 820\u001b[0;31m             \u001b[0;32mraise\u001b[0m \u001b[0mValueError\u001b[0m\u001b[0;34m(\u001b[0m\u001b[0mself\u001b[0m\u001b[0;34m.\u001b[0m\u001b[0m_kind\u001b[0m \u001b[0;34m+\u001b[0m \u001b[0;34m' requires x column to be numeric'\u001b[0m\u001b[0;34m)\u001b[0m\u001b[0;34m\u001b[0m\u001b[0m\n\u001b[0m\u001b[1;32m    821\u001b[0m         \u001b[0;32mif\u001b[0m \u001b[0mlen\u001b[0m\u001b[0;34m(\u001b[0m\u001b[0mself\u001b[0m\u001b[0;34m.\u001b[0m\u001b[0mdata\u001b[0m\u001b[0;34m[\u001b[0m\u001b[0my\u001b[0m\u001b[0;34m]\u001b[0m\u001b[0;34m.\u001b[0m\u001b[0m_get_numeric_data\u001b[0m\u001b[0;34m(\u001b[0m\u001b[0;34m)\u001b[0m\u001b[0;34m)\u001b[0m \u001b[0;34m==\u001b[0m \u001b[0;36m0\u001b[0m\u001b[0;34m:\u001b[0m\u001b[0;34m\u001b[0m\u001b[0m\n\u001b[1;32m    822\u001b[0m             \u001b[0;32mraise\u001b[0m \u001b[0mValueError\u001b[0m\u001b[0;34m(\u001b[0m\u001b[0mself\u001b[0m\u001b[0;34m.\u001b[0m\u001b[0m_kind\u001b[0m \u001b[0;34m+\u001b[0m \u001b[0;34m' requires y column to be numeric'\u001b[0m\u001b[0;34m)\u001b[0m\u001b[0;34m\u001b[0m\u001b[0m\n",
      "\u001b[0;31mValueError\u001b[0m: scatter requires x column to be numeric"
     ]
    }
   ],
   "source": [
    "# Scatter plots of different features for test2 data: \n",
    "\n",
    "modifiedsubmit.plot(kind='scatter',x='Recorded_Message_Or_Robocall',y='Consumer_Area_Code',color='red')\n",
    "plt.show()\n",
    "\n",
    "modifiedsubmit.plot(kind='scatter',x='Consumer_State',y='Consumer_Area_Code',color='blue')\n",
    "plt.show()\n"
   ]
  },
  {
   "cell_type": "code",
   "execution_count": 298,
   "metadata": {
    "colab": {
     "base_uri": "https://localhost:8080/",
     "height": 1000
    },
    "colab_type": "code",
    "id": "gOm7gaG8AXN9",
    "outputId": "8d27d028-72d7-477b-a9c3-485fe01ac881"
   },
   "outputs": [
    {
     "data": {
      "image/png": "[encoded data removed]",
      "text/plain": [
       "<Figure size 432x288 with 1 Axes>"
      ]
     },
     "metadata": {},
     "output_type": "display_data"
    },
    {
     "data": {
      "image/png": "[encoded data removed]",
      "text/plain": [
       "<Figure size 432x288 with 1 Axes>"
      ]
     },
     "metadata": {},
     "output_type": "display_data"
    }
   ],
   "source": [
    "# Scatter plots of different features for training data: \n",
    "\n",
    "master_df.plot(kind='scatter',x='Recorded_Message_Or_Robocall',y='Consumer_Area_Code',color='red')\n",
    "plt.show()\n",
    "\n",
    "master_df.plot(kind='scatter',x='Consumer_State',y='Consumer_Area_Code',color='blue')\n",
    "plt.show()\n"
   ]
  },
  {
   "cell_type": "code",
   "execution_count": 301,
   "metadata": {
    "colab": {
     "base_uri": "https://localhost:8080/",
     "height": 295
    },
    "colab_type": "code",
    "id": "l4y9aZfi-ep5",
    "outputId": "730c0b5b-dc80-4842-c23e-7ef5ed9c89a6"
   },
   "outputs": [
    {
     "data": {
      "image/png": "[encoded data removed]",
      "text/plain": [
       "<Figure size 432x288 with 1 Axes>"
      ]
     },
     "metadata": {},
     "output_type": "display_data"
    }
   ],
   "source": [
    "ax = plt.gca()\n",
    "modifiedsubmit.plot(kind='line',x='Consumer_Area_Code',y='Recorded_Message_Or_Robocall',title='Correlation of Recorded_Message_Or_Robocall and Consumer_State vs Consumer_Area_Code',ax=ax)\n",
    "modifiedsubmit.plot(kind='line',x='Consumer_Area_Code',y='Consumer_State', color='red', ax=ax)\n",
    "plt.show()"
   ]
  }
 ],
 "metadata": {
  "colab": {
   "collapsed_sections": [],
   "name": "RentAdvisor.ipynb",
   "provenance": []
  },
  "kernelspec": {
   "display_name": "Python 3",
   "language": "python",
   "name": "python3"
  },
  "language_info": {
   "codemirror_mode": {
    "name": "ipython",
    "version": 3
   },
   "file_extension": ".py",
   "mimetype": "text/x-python",
   "name": "python",
   "nbconvert_exporter": "python",
   "pygments_lexer": "ipython3",
   "version": "3.6.5"
  }
 },
 "nbformat": 4,
 "nbformat_minor": 1
}
