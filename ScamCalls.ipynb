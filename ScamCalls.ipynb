{
 "cells": [
  {
   "cell_type": "code",
   "execution_count": 259,
   "metadata": {
    "colab": {},
    "colab_type": "code",
    "id": "O-VuIOqFeDOT"
   },
   "outputs": [],
   "source": [
    "# Senior Design 2, Fall 2019 @ CCNY\n",
    "# Team Member & Name: Team 5 (4 member team)\n",
    "\n",
    "# PRAVEENA SHRESTHA \n",
    "# ABDUR RAFEY\n",
    "# STANLEY WONG\n",
    "# JOHN CHEN"
   ]
  },
  {
   "cell_type": "code",
   "execution_count": 3,
   "metadata": {
    "colab": {},
    "colab_type": "code",
    "id": "soTxACqWcldW"
   },
   "outputs": [],
   "source": [
    "\n",
    "import numpy as np\n",
    "import pandas as pd\n",
    "import matplotlib.pyplot as plt\n",
    "\n",
    "from sklearn.linear_model import LinearRegression\n",
    "from sklearn.metrics import mean_squared_error\n",
    "import statsmodels.api as sm\n",
    "import warnings\n",
    "%matplotlib inline"
   ]
  },
  {
   "cell_type": "code",
   "execution_count": 4,
   "metadata": {
    "colab": {},
    "colab_type": "code",
    "id": "KxNrcMMJdG2_"
   },
   "outputs": [],
   "source": [
    "train_df = pd.read_csv('dnc_complaint_numbers_2019-11-25.csv', index_col=0)\n",
    "test_df = pd.read_csv('dnc_complaint_numbers_2019-10-21.csv', index_col=0)\n",
    "submit1_df = pd.read_csv('dnc_complaint_numbers_2019-11-11.csv', index_col=0)\n"
   ]
  },
  {
   "cell_type": "code",
   "execution_count": 5,
   "metadata": {
    "colab": {
     "base_uri": "https://localhost:8080/",
     "height": 561
    },
    "colab_type": "code",
    "id": "fo3v0bcieapF",
    "outputId": "75f99848-b258-4d94-bc4d-274d6ab02d08",
    "scrolled": true
   },
   "outputs": [
    {
     "data": {
      "text/html": [
       "<div>\n",
       "<style scoped>\n",
       "    .dataframe tbody tr th:only-of-type {\n",
       "        vertical-align: middle;\n",
       "    }\n",
       "\n",
       "    .dataframe tbody tr th {\n",
       "        vertical-align: top;\n",
       "    }\n",
       "\n",
       "    .dataframe thead th {\n",
       "        text-align: right;\n",
       "    }\n",
       "</style>\n",
       "<table border=\"1\" class=\"dataframe\">\n",
       "  <thead>\n",
       "    <tr style=\"text-align: right;\">\n",
       "      <th></th>\n",
       "      <th>Created_Date</th>\n",
       "      <th>Violation_Date</th>\n",
       "      <th>Consumer_City</th>\n",
       "      <th>Consumer_State</th>\n",
       "      <th>Consumer_Area_Code</th>\n",
       "      <th>Subject</th>\n",
       "      <th>Recorded_Message_Or_Robocall</th>\n",
       "    </tr>\n",
       "    <tr>\n",
       "      <th>Company_Phone_Number</th>\n",
       "      <th></th>\n",
       "      <th></th>\n",
       "      <th></th>\n",
       "      <th></th>\n",
       "      <th></th>\n",
       "      <th></th>\n",
       "      <th></th>\n",
       "    </tr>\n",
       "  </thead>\n",
       "  <tbody>\n",
       "    <tr>\n",
       "      <th>9544295750</th>\n",
       "      <td>2019-11-22 14:11:41</td>\n",
       "      <td>2019-11-22 10:51:00</td>\n",
       "      <td>SPARKS</td>\n",
       "      <td>28.0</td>\n",
       "      <td>775</td>\n",
       "      <td>Computer  &amp; technical support</td>\n",
       "      <td>1.0</td>\n",
       "    </tr>\n",
       "    <tr>\n",
       "      <th>8779591403</th>\n",
       "      <td>2019-11-22 16:11:38</td>\n",
       "      <td>2018-02-07 13:13:00</td>\n",
       "      <td>Lumberton</td>\n",
       "      <td>43.0</td>\n",
       "      <td>409</td>\n",
       "      <td>Medical  &amp; prescriptions</td>\n",
       "      <td>1.0</td>\n",
       "    </tr>\n",
       "    <tr>\n",
       "      <th>6468012531</th>\n",
       "      <td>2019-11-22 18:36:25</td>\n",
       "      <td>2019-11-22 15:06:00</td>\n",
       "      <td>tiburon</td>\n",
       "      <td>5.0</td>\n",
       "      <td>707</td>\n",
       "      <td>Warranties  &amp; protection plans</td>\n",
       "      <td>1.0</td>\n",
       "    </tr>\n",
       "    <tr>\n",
       "      <th>2182783024</th>\n",
       "      <td>2019-11-22 19:32:35</td>\n",
       "      <td>2019-11-06 10:34:00</td>\n",
       "      <td>Oakdale</td>\n",
       "      <td>23.0</td>\n",
       "      <td>651</td>\n",
       "      <td>No Subject Provided</td>\n",
       "      <td>0.0</td>\n",
       "    </tr>\n",
       "    <tr>\n",
       "      <th>9737889091</th>\n",
       "      <td>2019-11-22 21:10:49</td>\n",
       "      <td>2019-11-22 17:35:00</td>\n",
       "      <td>Pompton Lakes</td>\n",
       "      <td>30.0</td>\n",
       "      <td>973</td>\n",
       "      <td>No Subject Provided</td>\n",
       "      <td>0.0</td>\n",
       "    </tr>\n",
       "    <tr>\n",
       "      <th>4243268624</th>\n",
       "      <td>2019-11-22 13:18:02</td>\n",
       "      <td>2019-11-22 10:02:00</td>\n",
       "      <td>Los Angeles</td>\n",
       "      <td>5.0</td>\n",
       "      <td>310</td>\n",
       "      <td>Medical  &amp; prescriptions</td>\n",
       "      <td>0.0</td>\n",
       "    </tr>\n",
       "    <tr>\n",
       "      <th>619208435</th>\n",
       "      <td>2019-11-23 15:48:24</td>\n",
       "      <td>2019-11-21 09:04:00</td>\n",
       "      <td>Turlock</td>\n",
       "      <td>5.0</td>\n",
       "      <td>619</td>\n",
       "      <td>Vacation  &amp; timeshares</td>\n",
       "      <td>1.0</td>\n",
       "    </tr>\n",
       "    <tr>\n",
       "      <th>4062086544</th>\n",
       "      <td>2019-11-22 13:57:50</td>\n",
       "      <td>2019-11-22 11:55:00</td>\n",
       "      <td>Livingston</td>\n",
       "      <td>26.0</td>\n",
       "      <td>406</td>\n",
       "      <td>Warranties  &amp; protection plans</td>\n",
       "      <td>1.0</td>\n",
       "    </tr>\n",
       "    <tr>\n",
       "      <th>5622706625</th>\n",
       "      <td>2019-11-23 13:04:33</td>\n",
       "      <td>2019-11-23 09:58:00</td>\n",
       "      <td>Cerritos</td>\n",
       "      <td>5.0</td>\n",
       "      <td>562</td>\n",
       "      <td>Home improvement  &amp; cleaning</td>\n",
       "      <td>0.0</td>\n",
       "    </tr>\n",
       "    <tr>\n",
       "      <th>9723667586</th>\n",
       "      <td>2019-11-22 23:07:52</td>\n",
       "      <td>2019-11-22 18:36:00</td>\n",
       "      <td>Houston</td>\n",
       "      <td>43.0</td>\n",
       "      <td>281</td>\n",
       "      <td>No Subject Provided</td>\n",
       "      <td>0.0</td>\n",
       "    </tr>\n",
       "    <tr>\n",
       "      <th>6362382326</th>\n",
       "      <td>2019-11-22 10:15:45</td>\n",
       "      <td>2019-11-21 13:44:00</td>\n",
       "      <td>ANDOVER</td>\n",
       "      <td>23.0</td>\n",
       "      <td>763</td>\n",
       "      <td>No Subject Provided</td>\n",
       "      <td>0.0</td>\n",
       "    </tr>\n",
       "    <tr>\n",
       "      <th>2243851808</th>\n",
       "      <td>2019-11-23 08:55:20</td>\n",
       "      <td>2019-11-10 13:40:00</td>\n",
       "      <td>carpentersville</td>\n",
       "      <td>13.0</td>\n",
       "      <td>847</td>\n",
       "      <td>No Subject Provided</td>\n",
       "      <td>0.0</td>\n",
       "    </tr>\n",
       "    <tr>\n",
       "      <th>9124292398</th>\n",
       "      <td>2019-11-22 10:40:39</td>\n",
       "      <td>2019-11-22 09:40:00</td>\n",
       "      <td>Port Wentworth</td>\n",
       "      <td>10.0</td>\n",
       "      <td>678</td>\n",
       "      <td>Reducing your debt (credit cards, mortgage, st...</td>\n",
       "      <td>1.0</td>\n",
       "    </tr>\n",
       "    <tr>\n",
       "      <th>2672168083</th>\n",
       "      <td>2019-11-22 14:11:34</td>\n",
       "      <td>2019-11-22 13:00:00</td>\n",
       "      <td>Houston</td>\n",
       "      <td>43.0</td>\n",
       "      <td>267</td>\n",
       "      <td>Calls pretending to be government, businesses,...</td>\n",
       "      <td>1.0</td>\n",
       "    </tr>\n",
       "    <tr>\n",
       "      <th>9707881325</th>\n",
       "      <td>2019-11-24 04:37:58</td>\n",
       "      <td>2019-11-23 16:46:00</td>\n",
       "      <td>Loveland</td>\n",
       "      <td>6.0</td>\n",
       "      <td>970</td>\n",
       "      <td>Dropped call or no message</td>\n",
       "      <td>0.0</td>\n",
       "    </tr>\n",
       "    <tr>\n",
       "      <th>3193275137</th>\n",
       "      <td>2019-11-23 11:24:38</td>\n",
       "      <td>2019-11-21 09:24:00</td>\n",
       "      <td>Belle Plaine</td>\n",
       "      <td>15.0</td>\n",
       "      <td>319</td>\n",
       "      <td>Dropped call or no message</td>\n",
       "      <td>0.0</td>\n",
       "    </tr>\n",
       "    <tr>\n",
       "      <th>0000000000</th>\n",
       "      <td>2019-11-24 11:35:38</td>\n",
       "      <td>2019-11-23 10:41:00</td>\n",
       "      <td>Heber Springs</td>\n",
       "      <td>4.0</td>\n",
       "      <td>501</td>\n",
       "      <td>Dropped call or no message</td>\n",
       "      <td>1.0</td>\n",
       "    </tr>\n",
       "    <tr>\n",
       "      <th>8139439190</th>\n",
       "      <td>2019-11-24 11:41:53</td>\n",
       "      <td>2019-11-23 12:42:00</td>\n",
       "      <td>Land O Lakes</td>\n",
       "      <td>9.0</td>\n",
       "      <td>813</td>\n",
       "      <td>Dropped call or no message</td>\n",
       "      <td>1.0</td>\n",
       "    </tr>\n",
       "    <tr>\n",
       "      <th>3202075852</th>\n",
       "      <td>2019-11-23 16:57:29</td>\n",
       "      <td>2019-11-19 12:26:00</td>\n",
       "      <td>District Heights</td>\n",
       "      <td>20.0</td>\n",
       "      <td>301</td>\n",
       "      <td>Dropped call or no message</td>\n",
       "      <td>1.0</td>\n",
       "    </tr>\n",
       "    <tr>\n",
       "      <th>8102025432</th>\n",
       "      <td>2019-11-22 13:04:27</td>\n",
       "      <td>2019-11-21 12:45:00</td>\n",
       "      <td>Morro Bay</td>\n",
       "      <td>5.0</td>\n",
       "      <td>951</td>\n",
       "      <td>Medical  &amp; prescriptions</td>\n",
       "      <td>1.0</td>\n",
       "    </tr>\n",
       "  </tbody>\n",
       "</table>\n",
       "</div>"
      ],
      "text/plain": [
       "                             Created_Date       Violation_Date  \\\n",
       "Company_Phone_Number                                             \n",
       "9544295750            2019-11-22 14:11:41  2019-11-22 10:51:00   \n",
       "8779591403            2019-11-22 16:11:38  2018-02-07 13:13:00   \n",
       "6468012531            2019-11-22 18:36:25  2019-11-22 15:06:00   \n",
       "2182783024            2019-11-22 19:32:35  2019-11-06 10:34:00   \n",
       "9737889091            2019-11-22 21:10:49  2019-11-22 17:35:00   \n",
       "4243268624            2019-11-22 13:18:02  2019-11-22 10:02:00   \n",
       "619208435             2019-11-23 15:48:24  2019-11-21 09:04:00   \n",
       "4062086544            2019-11-22 13:57:50  2019-11-22 11:55:00   \n",
       "5622706625            2019-11-23 13:04:33  2019-11-23 09:58:00   \n",
       "9723667586            2019-11-22 23:07:52  2019-11-22 18:36:00   \n",
       "6362382326            2019-11-22 10:15:45  2019-11-21 13:44:00   \n",
       "2243851808            2019-11-23 08:55:20  2019-11-10 13:40:00   \n",
       "9124292398            2019-11-22 10:40:39  2019-11-22 09:40:00   \n",
       "2672168083            2019-11-22 14:11:34  2019-11-22 13:00:00   \n",
       "9707881325            2019-11-24 04:37:58  2019-11-23 16:46:00   \n",
       "3193275137            2019-11-23 11:24:38  2019-11-21 09:24:00   \n",
       "0000000000            2019-11-24 11:35:38  2019-11-23 10:41:00   \n",
       "8139439190            2019-11-24 11:41:53  2019-11-23 12:42:00   \n",
       "3202075852            2019-11-23 16:57:29  2019-11-19 12:26:00   \n",
       "8102025432            2019-11-22 13:04:27  2019-11-21 12:45:00   \n",
       "\n",
       "                         Consumer_City  Consumer_State  Consumer_Area_Code  \\\n",
       "Company_Phone_Number                                                         \n",
       "9544295750                      SPARKS            28.0                 775   \n",
       "8779591403                   Lumberton            43.0                 409   \n",
       "6468012531                     tiburon             5.0                 707   \n",
       "2182783024                     Oakdale            23.0                 651   \n",
       "9737889091               Pompton Lakes            30.0                 973   \n",
       "4243268624                 Los Angeles             5.0                 310   \n",
       "619208435                      Turlock             5.0                 619   \n",
       "4062086544                  Livingston            26.0                 406   \n",
       "5622706625                    Cerritos             5.0                 562   \n",
       "9723667586                     Houston            43.0                 281   \n",
       "6362382326                     ANDOVER            23.0                 763   \n",
       "2243851808             carpentersville            13.0                 847   \n",
       "9124292398              Port Wentworth            10.0                 678   \n",
       "2672168083                     Houston            43.0                 267   \n",
       "9707881325                    Loveland             6.0                 970   \n",
       "3193275137                Belle Plaine            15.0                 319   \n",
       "0000000000               Heber Springs             4.0                 501   \n",
       "8139439190                Land O Lakes             9.0                 813   \n",
       "3202075852            District Heights            20.0                 301   \n",
       "8102025432                   Morro Bay             5.0                 951   \n",
       "\n",
       "                                                                Subject  \\\n",
       "Company_Phone_Number                                                      \n",
       "9544295750                                Computer  & technical support   \n",
       "8779591403                                     Medical  & prescriptions   \n",
       "6468012531                               Warranties  & protection plans   \n",
       "2182783024                                          No Subject Provided   \n",
       "9737889091                                          No Subject Provided   \n",
       "4243268624                                     Medical  & prescriptions   \n",
       "619208435                                        Vacation  & timeshares   \n",
       "4062086544                               Warranties  & protection plans   \n",
       "5622706625                                 Home improvement  & cleaning   \n",
       "9723667586                                          No Subject Provided   \n",
       "6362382326                                          No Subject Provided   \n",
       "2243851808                                          No Subject Provided   \n",
       "9124292398            Reducing your debt (credit cards, mortgage, st...   \n",
       "2672168083            Calls pretending to be government, businesses,...   \n",
       "9707881325                                   Dropped call or no message   \n",
       "3193275137                                   Dropped call or no message   \n",
       "0000000000                                   Dropped call or no message   \n",
       "8139439190                                   Dropped call or no message   \n",
       "3202075852                                   Dropped call or no message   \n",
       "8102025432                                     Medical  & prescriptions   \n",
       "\n",
       "                      Recorded_Message_Or_Robocall  \n",
       "Company_Phone_Number                                \n",
       "9544295750                                     1.0  \n",
       "8779591403                                     1.0  \n",
       "6468012531                                     1.0  \n",
       "2182783024                                     0.0  \n",
       "9737889091                                     0.0  \n",
       "4243268624                                     0.0  \n",
       "619208435                                      1.0  \n",
       "4062086544                                     1.0  \n",
       "5622706625                                     0.0  \n",
       "9723667586                                     0.0  \n",
       "6362382326                                     0.0  \n",
       "2243851808                                     0.0  \n",
       "9124292398                                     1.0  \n",
       "2672168083                                     1.0  \n",
       "9707881325                                     0.0  \n",
       "3193275137                                     0.0  \n",
       "0000000000                                     1.0  \n",
       "8139439190                                     1.0  \n",
       "3202075852                                     1.0  \n",
       "8102025432                                     1.0  "
      ]
     },
     "execution_count": 5,
     "metadata": {},
     "output_type": "execute_result"
    }
   ],
   "source": [
    "# Array using Consumer_States Provided\n",
    "StateArray = ['Alabama','Alaska','Arizona','Arkansas','California','Colorado','Connecticut','Delaware','Florida','Georgia',\n",
    "             'Hawaii','Idaho','Illinois','Indiana','Iowa','Kansas','Kentucky','Louisiana','Maine','Maryland',\n",
    "             'Massachusetts','Michigan','Minnesota','Mississippi','Missouri','Montana','Nebraska','Nevada','New Hampshire','New Jersey',\n",
    "             'New Mexico','New York','North Carolina','North Dakota','Ohio','Oklahoma','Oregon','Pennsylvania','Rhode Island',\n",
    "             'South Carolina','South Dakota','Tennessee','Texas','Utah','Vermont','Virginia','Washington','West Virginia','Wisconsin','Wyoming',\n",
    "              'Ontario, Canada','District of Columbia','Virgin Islands','Puerto Rico','Northern Mariana Islands','US Military Pacific']\n",
    "\n",
    "# Array corresponding Consumer_State number \n",
    "CorrStateNum = [1,2,3,4,5,6,7,8,9,10,\n",
    "               11,12,13,14,15,16,17,18,19,20,\n",
    "               21,22,23,24,25,26,27,28,29,30,\n",
    "               31,32,33,34,35,36,37,38,39,40,\n",
    "               41,42,43,44,45,46,47,48,49,50,\n",
    "                51,52,53,54,55,56\n",
    "               ]\n",
    "\n",
    "# REPLACE Consumer_State Array with Corresponding Consumer_State Number Array\n",
    "train_df = train_df.replace(StateArray, CorrStateNum)\n",
    "test_df = test_df.replace(StateArray, CorrStateNum)\n",
    "submit1_df = submit1_df.replace(StateArray, CorrStateNum)\n",
    "\n",
    "modifiedtrain = train_df\n",
    "modifiedtest = test_df\n",
    "modifiedsubmit = submit1_df\n",
    "\n",
    "\n",
    "# Replace scam call strings with integers: 1 -> Yes, 0 -> No\n",
    "modifiedtrain = train_df['Recorded_Message_Or_Robocall'] = train_df['Recorded_Message_Or_Robocall'].replace('Y', 1)\n",
    "modifiedtrain = train_df['Recorded_Message_Or_Robocall'] = train_df['Recorded_Message_Or_Robocall'].replace('N', 0)\n",
    "\n",
    "modifiedtest = test_df['Recorded_Message_Or_Robocall'] = test_df['Recorded_Message_Or_Robocall'].replace('Y', 1)\n",
    "modifiedtest = test_df['Recorded_Message_Or_Robocall'] = test_df['Recorded_Message_Or_Robocall'].replace('N', 0)\n",
    "\n",
    "modifiedsubmit = submit1_df['Recorded_Message_Or_Robocall'] = submit1_df['Recorded_Message_Or_Robocall'].replace('Y', 1)\n",
    "modifiedsubmit = submit1_df['Recorded_Message_Or_Robocall'] = submit1_df['Recorded_Message_Or_Robocall'].replace('N', 0)\n",
    "\n",
    "# remove all null values\n",
    "modifiedtrain = train_df.dropna()\n",
    "modifiedtest = test_df.dropna()\n",
    "modifiedsubmit = submit1_df.dropna()\n",
    "\n",
    "# Display 20 samples\n",
    "modifiedtrain.sample(20)\n"
   ]
  },
  {
   "cell_type": "code",
   "execution_count": 6,
   "metadata": {
    "colab": {},
    "colab_type": "code",
    "id": "-X3jrpKcejGN"
   },
   "outputs": [],
   "source": [
    "# extract usable features\n",
    "feature_cols = [ \n",
    "    'Recorded_Message_Or_Robocall',\n",
    "    'Consumer_State'\n",
    "]\n",
    "train_features = modifiedtrain[feature_cols] \n",
    "\n",
    "\n",
    "# construct target vector, dependent variable\n",
    "train_target = modifiedtrain['Consumer_Area_Code']"
   ]
  },
  {
   "cell_type": "code",
   "execution_count": 7,
   "metadata": {
    "colab": {
     "base_uri": "https://localhost:8080/",
     "height": 34
    },
    "colab_type": "code",
    "id": "qHM5wTapezYC",
    "outputId": "0a3478a1-bb49-435e-c790-da2bfea64489"
   },
   "outputs": [
    {
     "data": {
      "text/plain": [
       "LinearRegression(copy_X=True, fit_intercept=True, n_jobs=1, normalize=False)"
      ]
     },
     "execution_count": 7,
     "metadata": {},
     "output_type": "execute_result"
    }
   ],
   "source": [
    "# using linear regression method\n",
    "lreg = LinearRegression()\n",
    "lreg.fit(train_features, train_target)\n"
   ]
  },
  {
   "cell_type": "code",
   "execution_count": 8,
   "metadata": {
    "colab": {
     "base_uri": "https://localhost:8080/",
     "height": 51
    },
    "colab_type": "code",
    "id": "bSqe9pQde99S",
    "outputId": "ed874fff-23b7-4d66-b5b8-609abe03fa80"
   },
   "outputs": [
    {
     "name": "stdout",
     "output_type": "stream",
     "text": [
      "Prediction using Linear Regression train data against Test1:\n",
      "Mean Squared Error for Test1 using Linear Regression: 56450.267243459275\n"
     ]
    },
    {
     "name": "stderr",
     "output_type": "stream",
     "text": [
      "/Users/PJ/anaconda3/lib/python3.6/site-packages/ipykernel_launcher.py:4: SettingWithCopyWarning: \n",
      "A value is trying to be set on a copy of a slice from a DataFrame.\n",
      "Try using .loc[row_indexer,col_indexer] = value instead\n",
      "\n",
      "See the caveats in the documentation: http://pandas.pydata.org/pandas-docs/stable/indexing.html#indexing-view-versus-copy\n",
      "  after removing the cwd from sys.path.\n"
     ]
    }
   ],
   "source": [
    "test_features = modifiedtest[feature_cols] \n",
    "\n",
    "# construct predictions \n",
    "modifiedtest['predicted'] = lreg.predict(test_features)\n",
    "print(\"Prediction using Linear Regression train data against Test1:\")\n",
    "\n",
    "print(\"Mean Squared Error for Test1 using Linear Regression:\",mean_squared_error(modifiedtest['Consumer_Area_Code'], modifiedtest['predicted']))"
   ]
  },
  {
   "cell_type": "code",
   "execution_count": 9,
   "metadata": {
    "colab": {
     "base_uri": "https://localhost:8080/",
     "height": 85
    },
    "colab_type": "code",
    "id": "ke4GX8JxyCes",
    "outputId": "750d4bd7-55aa-4a5e-d03b-7712ea27affe"
   },
   "outputs": [
    {
     "name": "stdout",
     "output_type": "stream",
     "text": [
      "Prediction using Random Forest Regressor train data against Test1:\n",
      "Mean Squared Error for Test1 using Random Forest Regressor: 47121.247432427466\n"
     ]
    },
    {
     "name": "stderr",
     "output_type": "stream",
     "text": [
      "/Users/PJ/anaconda3/lib/python3.6/site-packages/ipykernel_launcher.py:5: SettingWithCopyWarning: \n",
      "A value is trying to be set on a copy of a slice from a DataFrame.\n",
      "Try using .loc[row_indexer,col_indexer] = value instead\n",
      "\n",
      "See the caveats in the documentation: http://pandas.pydata.org/pandas-docs/stable/indexing.html#indexing-view-versus-copy\n",
      "  \"\"\"\n"
     ]
    }
   ],
   "source": [
    "rf = RandomForestRegressor()\n",
    "rf.fit(train_features, train_target)\n",
    "\n",
    "# construct predictions \n",
    "modifiedtest['predicted'] = rf.predict(test_features)\n",
    "print(\"Prediction using Random Forest Regressor train data against Test1:\")\n",
    "print(\"Mean Squared Error for Test1 using Random Forest Regressor:\",mean_squared_error(modifiedtest['Consumer_Area_Code'], modifiedtest['predicted']))"
   ]
  },
  {
   "cell_type": "code",
   "execution_count": 10,
   "metadata": {
    "colab": {
     "base_uri": "https://localhost:8080/",
     "height": 136
    },
    "colab_type": "code",
    "id": "sLymzfY4fXs5",
    "outputId": "2fff8cb3-87da-45af-fd86-fa3c3f1a1458"
   },
   "outputs": [
    {
     "data": {
      "text/plain": [
       "RandomForestRegressor(bootstrap=True, criterion='mse', max_depth=None,\n",
       "           max_features='auto', max_leaf_nodes=None,\n",
       "           min_impurity_decrease=0.0, min_impurity_split=None,\n",
       "           min_samples_leaf=1, min_samples_split=2,\n",
       "           min_weight_fraction_leaf=0.0, n_estimators=10, n_jobs=1,\n",
       "           oob_score=False, random_state=None, verbose=0, warm_start=False)"
      ]
     },
     "execution_count": 10,
     "metadata": {},
     "output_type": "execute_result"
    }
   ],
   "source": [
    "#joining training data and test1 data to incredase total training data\n",
    "master_df = modifiedtrain.append(modifiedtest, sort=False)\n",
    "\n",
    "master_features = master_df[feature_cols].fillna(master_df[feature_cols].median(), axis=0)\n",
    "master_target = master_df['Consumer_Area_Code']\n",
    "#linear regression\n",
    "#lreg.fit(master_features, master_target)\n",
    "\n",
    "#Random Forest Regressor\n",
    "rf.fit(master_features, master_target)"
   ]
  },
  {
   "cell_type": "code",
   "execution_count": 11,
   "metadata": {
    "colab": {
     "base_uri": "https://localhost:8080/",
     "height": 390
    },
    "colab_type": "code",
    "id": "BMSktbrisDxE",
    "outputId": "31d80735-a915-4270-c09a-fc293b1d1001"
   },
   "outputs": [
    {
     "data": {
      "text/html": [
       "<div>\n",
       "<style scoped>\n",
       "    .dataframe tbody tr th:only-of-type {\n",
       "        vertical-align: middle;\n",
       "    }\n",
       "\n",
       "    .dataframe tbody tr th {\n",
       "        vertical-align: top;\n",
       "    }\n",
       "\n",
       "    .dataframe thead th {\n",
       "        text-align: right;\n",
       "    }\n",
       "</style>\n",
       "<table border=\"1\" class=\"dataframe\">\n",
       "  <thead>\n",
       "    <tr style=\"text-align: right;\">\n",
       "      <th></th>\n",
       "      <th>Recorded_Message_Or_Robocall</th>\n",
       "      <th>Consumer_State</th>\n",
       "    </tr>\n",
       "    <tr>\n",
       "      <th>Company_Phone_Number</th>\n",
       "      <th></th>\n",
       "      <th></th>\n",
       "    </tr>\n",
       "  </thead>\n",
       "  <tbody>\n",
       "    <tr>\n",
       "      <th>6147544137</th>\n",
       "      <td>0.0</td>\n",
       "      <td>20</td>\n",
       "    </tr>\n",
       "    <tr>\n",
       "      <th>9726473800</th>\n",
       "      <td>1.0</td>\n",
       "      <td>43</td>\n",
       "    </tr>\n",
       "    <tr>\n",
       "      <th>5625841805</th>\n",
       "      <td>1.0</td>\n",
       "      <td>9</td>\n",
       "    </tr>\n",
       "    <tr>\n",
       "      <th>8783784528</th>\n",
       "      <td>1.0</td>\n",
       "      <td>42</td>\n",
       "    </tr>\n",
       "    <tr>\n",
       "      <th>7205973768</th>\n",
       "      <td>1.0</td>\n",
       "      <td>6</td>\n",
       "    </tr>\n",
       "    <tr>\n",
       "      <th>2605172460</th>\n",
       "      <td>1.0</td>\n",
       "      <td>14</td>\n",
       "    </tr>\n",
       "    <tr>\n",
       "      <th>8008002775</th>\n",
       "      <td>1.0</td>\n",
       "      <td>15</td>\n",
       "    </tr>\n",
       "    <tr>\n",
       "      <th>5176688263</th>\n",
       "      <td>1.0</td>\n",
       "      <td>22</td>\n",
       "    </tr>\n",
       "    <tr>\n",
       "      <th>4108854476</th>\n",
       "      <td>1.0</td>\n",
       "      <td>5</td>\n",
       "    </tr>\n",
       "    <tr>\n",
       "      <th>8323046527</th>\n",
       "      <td>0.0</td>\n",
       "      <td>43</td>\n",
       "    </tr>\n",
       "    <tr>\n",
       "      <th>6464754392</th>\n",
       "      <td>1.0</td>\n",
       "      <td>32</td>\n",
       "    </tr>\n",
       "    <tr>\n",
       "      <th>2397919565</th>\n",
       "      <td>0.0</td>\n",
       "      <td>21</td>\n",
       "    </tr>\n",
       "    <tr>\n",
       "      <th>7272752799</th>\n",
       "      <td>0.0</td>\n",
       "      <td>9</td>\n",
       "    </tr>\n",
       "    <tr>\n",
       "      <th>8886333753</th>\n",
       "      <td>1.0</td>\n",
       "      <td>5</td>\n",
       "    </tr>\n",
       "    <tr>\n",
       "      <th>4702510441</th>\n",
       "      <td>0.0</td>\n",
       "      <td>28</td>\n",
       "    </tr>\n",
       "    <tr>\n",
       "      <th>8559932342</th>\n",
       "      <td>0.0</td>\n",
       "      <td>17</td>\n",
       "    </tr>\n",
       "    <tr>\n",
       "      <th>9495543871</th>\n",
       "      <td>1.0</td>\n",
       "      <td>5</td>\n",
       "    </tr>\n",
       "    <tr>\n",
       "      <th>7324166173</th>\n",
       "      <td>1.0</td>\n",
       "      <td>30</td>\n",
       "    </tr>\n",
       "    <tr>\n",
       "      <th>8668547846</th>\n",
       "      <td>1.0</td>\n",
       "      <td>47</td>\n",
       "    </tr>\n",
       "    <tr>\n",
       "      <th>7047280130</th>\n",
       "      <td>1.0</td>\n",
       "      <td>33</td>\n",
       "    </tr>\n",
       "  </tbody>\n",
       "</table>\n",
       "</div>"
      ],
      "text/plain": [
       "                      Recorded_Message_Or_Robocall  Consumer_State\n",
       "Company_Phone_Number                                              \n",
       "6147544137                                     0.0              20\n",
       "9726473800                                     1.0              43\n",
       "5625841805                                     1.0               9\n",
       "8783784528                                     1.0              42\n",
       "7205973768                                     1.0               6\n",
       "2605172460                                     1.0              14\n",
       "8008002775                                     1.0              15\n",
       "5176688263                                     1.0              22\n",
       "4108854476                                     1.0               5\n",
       "8323046527                                     0.0              43\n",
       "6464754392                                     1.0              32\n",
       "2397919565                                     0.0              21\n",
       "7272752799                                     0.0               9\n",
       "8886333753                                     1.0               5\n",
       "4702510441                                     0.0              28\n",
       "8559932342                                     0.0              17\n",
       "9495543871                                     1.0               5\n",
       "7324166173                                     1.0              30\n",
       "8668547846                                     1.0              47\n",
       "7047280130                                     1.0              33"
      ]
     },
     "execution_count": 11,
     "metadata": {},
     "output_type": "execute_result"
    }
   ],
   "source": [
    "#handling missing data\n",
    "submit1_features = modifiedsubmit[feature_cols].fillna(master_df[feature_cols].median(), axis=0)\n",
    "submit1_features.sample(20)\n",
    "# 1 -> Yes, 0 -> No"
   ]
  },
  {
   "cell_type": "code",
   "execution_count": 12,
   "metadata": {
    "colab": {},
    "colab_type": "code",
    "id": "YdRG3bHqgM0A"
   },
   "outputs": [
    {
     "name": "stderr",
     "output_type": "stream",
     "text": [
      "/Users/PJ/anaconda3/lib/python3.6/site-packages/ipykernel_launcher.py:2: SettingWithCopyWarning: \n",
      "A value is trying to be set on a copy of a slice from a DataFrame.\n",
      "Try using .loc[row_indexer,col_indexer] = value instead\n",
      "\n",
      "See the caveats in the documentation: http://pandas.pydata.org/pandas-docs/stable/indexing.html#indexing-view-versus-copy\n",
      "  \n"
     ]
    }
   ],
   "source": [
    "#submit1_features = submit1_df[feature_cols].fillna(submit1_df[feature_cols].median(), axis=0)\n",
    "modifiedsubmit['Consumer_Area_Code'] = rf.predict(submit1_features)\n",
    "modifiedsubmit['Consumer_Area_Code'].to_csv('test2.csv', header=True)\n",
    "\n",
    "#these part has to be changed\n",
    "#submit1_df['median_CAC'] = np.ones(modifiedsubmit['Consumer_Area_Code'].shape) * master_target.median()\n",
    "#print(\"Prediction of rent for Test2\")\n",
    "#print(\"Mean Squared error for Test2: \",mean_squared_error(submit1_df['rent'], submit1_df['median_CAC']))"
   ]
  },
  {
   "cell_type": "code",
   "execution_count": 13,
   "metadata": {
    "colab": {
     "base_uri": "https://localhost:8080/",
     "height": 221
    },
    "colab_type": "code",
    "id": "tClzyIsEhbVN",
    "outputId": "ee91d2ac-ee5a-451e-ae96-711e9a70a1e7"
   },
   "outputs": [
    {
     "data": {
      "text/plain": [
       "Company_Phone_Number\n",
       "4102377726    374.259099\n",
       "3105974842    598.211062\n",
       "2082620000    707.175453\n",
       "8655993347    652.311247\n",
       "9043570444    647.879318\n",
       "9789967521    707.175453\n",
       "7084728847    604.391808\n",
       "NaN           627.102711\n",
       "3127774200    488.962928\n",
       "9083009968    708.732475\n",
       "7146046840    654.669737\n",
       "2516560711    277.781238\n",
       "7193099113    599.081985\n",
       "2393577358    634.645833\n",
       "4322872365    624.632486\n",
       "2058318576    277.781238\n",
       "NaN           604.391808\n",
       "8559190933    604.391808\n",
       "9044725320    634.645833\n",
       "7034755806    660.835147\n",
       "8003460665    551.519867\n",
       "6304171994    598.211062\n",
       "5053846798    574.661667\n",
       "4257804171    386.450922\n",
       "5108904280    654.669737\n",
       "6057767391    611.099397\n",
       "7038904706    660.835147\n",
       "7204521775    428.460288\n",
       "8030733501    598.744398\n",
       "2292072091    648.179972\n",
       "                 ...    \n",
       "9168979255    654.669737\n",
       "5717995158    660.835147\n",
       "2602302580    535.949335\n",
       "7034897301    660.835147\n",
       "8062234867    624.632486\n",
       "8775759944    708.732475\n",
       "2092760999    654.669737\n",
       "8432429617    654.669737\n",
       "8002554695    648.179972\n",
       "7068402918    648.179972\n",
       "2622000821    579.764929\n",
       "9728742377    624.632486\n",
       "2393090848    647.879318\n",
       "3612520075    513.119907\n",
       "2133186326    386.450922\n",
       "2153501347    576.280798\n",
       "3301155618    598.211062\n",
       "8008556096    419.772144\n",
       "2175312092    704.072312\n",
       "2408506345    704.072312\n",
       "4103437664    624.632486\n",
       "8336068362    676.196390\n",
       "6814338672    654.669737\n",
       "8473738484    598.744398\n",
       "6155850469    652.311247\n",
       "8003772339    624.632486\n",
       "6186981209    598.211062\n",
       "3524535758    650.664833\n",
       "8767742153    557.826614\n",
       "6177705221    723.720317\n",
       "Name: Consumer_Area_Code, Length: 100, dtype: float64"
      ]
     },
     "execution_count": 13,
     "metadata": {},
     "output_type": "execute_result"
    }
   ],
   "source": [
    "modifiedsubmit['Consumer_Area_Code'].sample(100)"
   ]
  },
  {
   "cell_type": "code",
   "execution_count": 14,
   "metadata": {
    "colab": {},
    "colab_type": "code",
    "id": "kkwSzyQkdkXT"
   },
   "outputs": [],
   "source": [
    "# It's taking numbers from the public database\n",
    "# Learning its patterns and creates a \"Spam Phone Number\" based on the dataset\n",
    "# as well as the Consumer_Area_Code\n",
    "\n",
    "# TESTED EACH Company_Phone_Number\n",
    "    # Some phone numbers are randomly generated\n",
    "    # Some already exists within the CSV file\n",
    "        # But area code could be randomly generated\n",
    "    # Some take a specific pattern and generates the rest of the numbers\n",
    "\n",
    "# POSSIBILITY OF THIS DATASET\n",
    "    # False Positive \n",
    "        # With these generated Phone Numbers and Area Codes\n",
    "        # We can have our system compare to see if its a 1 or 0\n",
    "            # 1 = YES scam , 0 = NO scam\n"
   ]
  },
  {
   "cell_type": "code",
   "execution_count": 15,
   "metadata": {
    "colab": {
     "base_uri": "https://localhost:8080/",
     "height": 1000
    },
    "colab_type": "code",
    "id": "175Iw_uO72Mp",
    "outputId": "e92aabc9-96c8-4b9c-e0a3-f6846553a67c"
   },
   "outputs": [
    {
     "data": {
      "image/png": "[encoded data removed]",
      "text/plain": [
       "<Figure size 432x288 with 1 Axes>"
      ]
     },
     "metadata": {},
     "output_type": "display_data"
    },
    {
     "ename": "ValueError",
     "evalue": "scatter requires x column to be numeric",
     "output_type": "error",
     "traceback": [
      "\u001b[0;31m---------------------------------------------------------------------------\u001b[0m",
      "\u001b[0;31mValueError\u001b[0m                                Traceback (most recent call last)",
      "\u001b[0;32m<ipython-input-15-4e75b7193e1e>\u001b[0m in \u001b[0;36m<module>\u001b[0;34m()\u001b[0m\n\u001b[1;32m      4\u001b[0m \u001b[0mplt\u001b[0m\u001b[0;34m.\u001b[0m\u001b[0mshow\u001b[0m\u001b[0;34m(\u001b[0m\u001b[0;34m)\u001b[0m\u001b[0;34m\u001b[0m\u001b[0m\n\u001b[1;32m      5\u001b[0m \u001b[0;34m\u001b[0m\u001b[0m\n\u001b[0;32m----> 6\u001b[0;31m \u001b[0mmodifiedsubmit\u001b[0m\u001b[0;34m.\u001b[0m\u001b[0mplot\u001b[0m\u001b[0;34m(\u001b[0m\u001b[0mkind\u001b[0m\u001b[0;34m=\u001b[0m\u001b[0;34m'scatter'\u001b[0m\u001b[0;34m,\u001b[0m\u001b[0mx\u001b[0m\u001b[0;34m=\u001b[0m\u001b[0;34m'Consumer_State'\u001b[0m\u001b[0;34m,\u001b[0m\u001b[0my\u001b[0m\u001b[0;34m=\u001b[0m\u001b[0;34m'Consumer_Area_Code'\u001b[0m\u001b[0;34m,\u001b[0m\u001b[0mcolor\u001b[0m\u001b[0;34m=\u001b[0m\u001b[0;34m'blue'\u001b[0m\u001b[0;34m)\u001b[0m\u001b[0;34m\u001b[0m\u001b[0m\n\u001b[0m\u001b[1;32m      7\u001b[0m \u001b[0mplt\u001b[0m\u001b[0;34m.\u001b[0m\u001b[0mshow\u001b[0m\u001b[0;34m(\u001b[0m\u001b[0;34m)\u001b[0m\u001b[0;34m\u001b[0m\u001b[0m\n",
      "\u001b[0;32m~/anaconda3/lib/python3.6/site-packages/pandas/plotting/_core.py\u001b[0m in \u001b[0;36m__call__\u001b[0;34m(self, x, y, kind, ax, subplots, sharex, sharey, layout, figsize, use_index, title, grid, legend, style, logx, logy, loglog, xticks, yticks, xlim, ylim, rot, fontsize, colormap, table, yerr, xerr, secondary_y, sort_columns, **kwds)\u001b[0m\n\u001b[1;32m   2939\u001b[0m                           \u001b[0mfontsize\u001b[0m\u001b[0;34m=\u001b[0m\u001b[0mfontsize\u001b[0m\u001b[0;34m,\u001b[0m \u001b[0mcolormap\u001b[0m\u001b[0;34m=\u001b[0m\u001b[0mcolormap\u001b[0m\u001b[0;34m,\u001b[0m \u001b[0mtable\u001b[0m\u001b[0;34m=\u001b[0m\u001b[0mtable\u001b[0m\u001b[0;34m,\u001b[0m\u001b[0;34m\u001b[0m\u001b[0m\n\u001b[1;32m   2940\u001b[0m                           \u001b[0myerr\u001b[0m\u001b[0;34m=\u001b[0m\u001b[0myerr\u001b[0m\u001b[0;34m,\u001b[0m \u001b[0mxerr\u001b[0m\u001b[0;34m=\u001b[0m\u001b[0mxerr\u001b[0m\u001b[0;34m,\u001b[0m \u001b[0msecondary_y\u001b[0m\u001b[0;34m=\u001b[0m\u001b[0msecondary_y\u001b[0m\u001b[0;34m,\u001b[0m\u001b[0;34m\u001b[0m\u001b[0m\n\u001b[0;32m-> 2941\u001b[0;31m                           sort_columns=sort_columns, **kwds)\n\u001b[0m\u001b[1;32m   2942\u001b[0m     \u001b[0m__call__\u001b[0m\u001b[0;34m.\u001b[0m\u001b[0m__doc__\u001b[0m \u001b[0;34m=\u001b[0m \u001b[0mplot_frame\u001b[0m\u001b[0;34m.\u001b[0m\u001b[0m__doc__\u001b[0m\u001b[0;34m\u001b[0m\u001b[0m\n\u001b[1;32m   2943\u001b[0m \u001b[0;34m\u001b[0m\u001b[0m\n",
      "\u001b[0;32m~/anaconda3/lib/python3.6/site-packages/pandas/plotting/_core.py\u001b[0m in \u001b[0;36mplot_frame\u001b[0;34m(data, x, y, kind, ax, subplots, sharex, sharey, layout, figsize, use_index, title, grid, legend, style, logx, logy, loglog, xticks, yticks, xlim, ylim, rot, fontsize, colormap, table, yerr, xerr, secondary_y, sort_columns, **kwds)\u001b[0m\n\u001b[1;32m   1975\u001b[0m                  \u001b[0myerr\u001b[0m\u001b[0;34m=\u001b[0m\u001b[0myerr\u001b[0m\u001b[0;34m,\u001b[0m \u001b[0mxerr\u001b[0m\u001b[0;34m=\u001b[0m\u001b[0mxerr\u001b[0m\u001b[0;34m,\u001b[0m\u001b[0;34m\u001b[0m\u001b[0m\n\u001b[1;32m   1976\u001b[0m                  \u001b[0msecondary_y\u001b[0m\u001b[0;34m=\u001b[0m\u001b[0msecondary_y\u001b[0m\u001b[0;34m,\u001b[0m \u001b[0msort_columns\u001b[0m\u001b[0;34m=\u001b[0m\u001b[0msort_columns\u001b[0m\u001b[0;34m,\u001b[0m\u001b[0;34m\u001b[0m\u001b[0m\n\u001b[0;32m-> 1977\u001b[0;31m                  **kwds)\n\u001b[0m\u001b[1;32m   1978\u001b[0m \u001b[0;34m\u001b[0m\u001b[0m\n\u001b[1;32m   1979\u001b[0m \u001b[0;34m\u001b[0m\u001b[0m\n",
      "\u001b[0;32m~/anaconda3/lib/python3.6/site-packages/pandas/plotting/_core.py\u001b[0m in \u001b[0;36m_plot\u001b[0;34m(data, x, y, subplots, ax, kind, **kwds)\u001b[0m\n\u001b[1;32m   1741\u001b[0m         \u001b[0;32mif\u001b[0m \u001b[0misinstance\u001b[0m\u001b[0;34m(\u001b[0m\u001b[0mdata\u001b[0m\u001b[0;34m,\u001b[0m \u001b[0mABCDataFrame\u001b[0m\u001b[0;34m)\u001b[0m\u001b[0;34m:\u001b[0m\u001b[0;34m\u001b[0m\u001b[0m\n\u001b[1;32m   1742\u001b[0m             plot_obj = klass(data, x=x, y=y, subplots=subplots, ax=ax,\n\u001b[0;32m-> 1743\u001b[0;31m                              kind=kind, **kwds)\n\u001b[0m\u001b[1;32m   1744\u001b[0m         \u001b[0;32melse\u001b[0m\u001b[0;34m:\u001b[0m\u001b[0;34m\u001b[0m\u001b[0m\n\u001b[1;32m   1745\u001b[0m             raise ValueError(\"plot kind %r can only be used for data frames\"\n",
      "\u001b[0;32m~/anaconda3/lib/python3.6/site-packages/pandas/plotting/_core.py\u001b[0m in \u001b[0;36m__init__\u001b[0;34m(self, data, x, y, s, c, **kwargs)\u001b[0m\n\u001b[1;32m    843\u001b[0m             \u001b[0;31m# the handling of this argument later\u001b[0m\u001b[0;34m\u001b[0m\u001b[0;34m\u001b[0m\u001b[0m\n\u001b[1;32m    844\u001b[0m             \u001b[0ms\u001b[0m \u001b[0;34m=\u001b[0m \u001b[0;36m20\u001b[0m\u001b[0;34m\u001b[0m\u001b[0m\n\u001b[0;32m--> 845\u001b[0;31m         \u001b[0msuper\u001b[0m\u001b[0;34m(\u001b[0m\u001b[0mScatterPlot\u001b[0m\u001b[0;34m,\u001b[0m \u001b[0mself\u001b[0m\u001b[0;34m)\u001b[0m\u001b[0;34m.\u001b[0m\u001b[0m__init__\u001b[0m\u001b[0;34m(\u001b[0m\u001b[0mdata\u001b[0m\u001b[0;34m,\u001b[0m \u001b[0mx\u001b[0m\u001b[0;34m,\u001b[0m \u001b[0my\u001b[0m\u001b[0;34m,\u001b[0m \u001b[0ms\u001b[0m\u001b[0;34m=\u001b[0m\u001b[0ms\u001b[0m\u001b[0;34m,\u001b[0m \u001b[0;34m**\u001b[0m\u001b[0mkwargs\u001b[0m\u001b[0;34m)\u001b[0m\u001b[0;34m\u001b[0m\u001b[0m\n\u001b[0m\u001b[1;32m    846\u001b[0m         \u001b[0;32mif\u001b[0m \u001b[0mis_integer\u001b[0m\u001b[0;34m(\u001b[0m\u001b[0mc\u001b[0m\u001b[0;34m)\u001b[0m \u001b[0;32mand\u001b[0m \u001b[0;32mnot\u001b[0m \u001b[0mself\u001b[0m\u001b[0;34m.\u001b[0m\u001b[0mdata\u001b[0m\u001b[0;34m.\u001b[0m\u001b[0mcolumns\u001b[0m\u001b[0;34m.\u001b[0m\u001b[0mholds_integer\u001b[0m\u001b[0;34m(\u001b[0m\u001b[0;34m)\u001b[0m\u001b[0;34m:\u001b[0m\u001b[0;34m\u001b[0m\u001b[0m\n\u001b[1;32m    847\u001b[0m             \u001b[0mc\u001b[0m \u001b[0;34m=\u001b[0m \u001b[0mself\u001b[0m\u001b[0;34m.\u001b[0m\u001b[0mdata\u001b[0m\u001b[0;34m.\u001b[0m\u001b[0mcolumns\u001b[0m\u001b[0;34m[\u001b[0m\u001b[0mc\u001b[0m\u001b[0;34m]\u001b[0m\u001b[0;34m\u001b[0m\u001b[0m\n",
      "\u001b[0;32m~/anaconda3/lib/python3.6/site-packages/pandas/plotting/_core.py\u001b[0m in \u001b[0;36m__init__\u001b[0;34m(self, data, x, y, **kwargs)\u001b[0m\n\u001b[1;32m    818\u001b[0m             \u001b[0my\u001b[0m \u001b[0;34m=\u001b[0m \u001b[0mself\u001b[0m\u001b[0;34m.\u001b[0m\u001b[0mdata\u001b[0m\u001b[0;34m.\u001b[0m\u001b[0mcolumns\u001b[0m\u001b[0;34m[\u001b[0m\u001b[0my\u001b[0m\u001b[0;34m]\u001b[0m\u001b[0;34m\u001b[0m\u001b[0m\n\u001b[1;32m    819\u001b[0m         \u001b[0;32mif\u001b[0m \u001b[0mlen\u001b[0m\u001b[0;34m(\u001b[0m\u001b[0mself\u001b[0m\u001b[0;34m.\u001b[0m\u001b[0mdata\u001b[0m\u001b[0;34m[\u001b[0m\u001b[0mx\u001b[0m\u001b[0;34m]\u001b[0m\u001b[0;34m.\u001b[0m\u001b[0m_get_numeric_data\u001b[0m\u001b[0;34m(\u001b[0m\u001b[0;34m)\u001b[0m\u001b[0;34m)\u001b[0m \u001b[0;34m==\u001b[0m \u001b[0;36m0\u001b[0m\u001b[0;34m:\u001b[0m\u001b[0;34m\u001b[0m\u001b[0m\n\u001b[0;32m--> 820\u001b[0;31m             \u001b[0;32mraise\u001b[0m \u001b[0mValueError\u001b[0m\u001b[0;34m(\u001b[0m\u001b[0mself\u001b[0m\u001b[0;34m.\u001b[0m\u001b[0m_kind\u001b[0m \u001b[0;34m+\u001b[0m \u001b[0;34m' requires x column to be numeric'\u001b[0m\u001b[0;34m)\u001b[0m\u001b[0;34m\u001b[0m\u001b[0m\n\u001b[0m\u001b[1;32m    821\u001b[0m         \u001b[0;32mif\u001b[0m \u001b[0mlen\u001b[0m\u001b[0;34m(\u001b[0m\u001b[0mself\u001b[0m\u001b[0;34m.\u001b[0m\u001b[0mdata\u001b[0m\u001b[0;34m[\u001b[0m\u001b[0my\u001b[0m\u001b[0;34m]\u001b[0m\u001b[0;34m.\u001b[0m\u001b[0m_get_numeric_data\u001b[0m\u001b[0;34m(\u001b[0m\u001b[0;34m)\u001b[0m\u001b[0;34m)\u001b[0m \u001b[0;34m==\u001b[0m \u001b[0;36m0\u001b[0m\u001b[0;34m:\u001b[0m\u001b[0;34m\u001b[0m\u001b[0m\n\u001b[1;32m    822\u001b[0m             \u001b[0;32mraise\u001b[0m \u001b[0mValueError\u001b[0m\u001b[0;34m(\u001b[0m\u001b[0mself\u001b[0m\u001b[0;34m.\u001b[0m\u001b[0m_kind\u001b[0m \u001b[0;34m+\u001b[0m \u001b[0;34m' requires y column to be numeric'\u001b[0m\u001b[0;34m)\u001b[0m\u001b[0;34m\u001b[0m\u001b[0m\n",
      "\u001b[0;31mValueError\u001b[0m: scatter requires x column to be numeric"
     ]
    }
   ],
   "source": [
    "# Scatter plots of different features for test2 data: \n",
    "\n",
    "modifiedsubmit.plot(kind='scatter',x='Recorded_Message_Or_Robocall',y='Consumer_Area_Code',color='red')\n",
    "plt.show()\n",
    "\n",
    "modifiedsubmit.plot(kind='scatter',x='Consumer_State',y='Consumer_Area_Code',color='blue')\n",
    "plt.show()\n"
   ]
  },
  {
   "cell_type": "code",
   "execution_count": 16,
   "metadata": {
    "colab": {
     "base_uri": "https://localhost:8080/",
     "height": 1000
    },
    "colab_type": "code",
    "id": "gOm7gaG8AXN9",
    "outputId": "8d27d028-72d7-477b-a9c3-485fe01ac881"
   },
   "outputs": [
    {
     "data": {
      "image/png": "[encoded data removed]",
      "text/plain": [
       "<Figure size 432x288 with 1 Axes>"
      ]
     },
     "metadata": {},
     "output_type": "display_data"
    },
    {
     "data": {
      "image/png": "[encoded data removed]",
      "text/plain": [
       "<Figure size 432x288 with 1 Axes>"
      ]
     },
     "metadata": {},
     "output_type": "display_data"
    }
   ],
   "source": [
    "# Scatter plots of different features for training data: \n",
    "\n",
    "master_df.plot(kind='scatter',x='Recorded_Message_Or_Robocall',y='Consumer_Area_Code',color='red')\n",
    "plt.show()\n",
    "\n",
    "master_df.plot(kind='scatter',x='Consumer_State',y='Consumer_Area_Code',color='blue')\n",
    "plt.show()\n"
   ]
  },
  {
   "cell_type": "code",
   "execution_count": 17,
   "metadata": {
    "colab": {
     "base_uri": "https://localhost:8080/",
     "height": 295
    },
    "colab_type": "code",
    "id": "l4y9aZfi-ep5",
    "outputId": "730c0b5b-dc80-4842-c23e-7ef5ed9c89a6"
   },
   "outputs": [
    {
     "data": {
      "image/png": "[encoded data removed]",
      "text/plain": [
       "<Figure size 432x288 with 1 Axes>"
      ]
     },
     "metadata": {},
     "output_type": "display_data"
    }
   ],
   "source": [
    "ax = plt.gca()\n",
    "modifiedsubmit.plot(kind='line',x='Consumer_Area_Code',y='Recorded_Message_Or_Robocall',title='Correlation of Recorded_Message_Or_Robocall and Consumer_State vs Consumer_Area_Code',ax=ax)\n",
    "modifiedsubmit.plot(kind='line',x='Consumer_Area_Code',y='Consumer_State', color='red', ax=ax)\n",
    "plt.show()"
   ]
  },
  {
   "cell_type": "code",
   "execution_count": 18,
   "metadata": {},
   "outputs": [
    {
     "name": "stdout",
     "output_type": "stream",
     "text": [
      "                            OLS Regression Results                            \n",
      "==============================================================================\n",
      "Dep. Variable:     Consumer_Area_Code   R-squared:                       0.815\n",
      "Model:                            OLS   Adj. R-squared:                  0.815\n",
      "Method:                 Least Squares   F-statistic:                 3.621e+04\n",
      "Date:                Tue, 26 Nov 2019   Prob (F-statistic):               0.00\n",
      "Time:                        12:12:28   Log-Likelihood:            -1.1500e+05\n",
      "No. Observations:               16472   AIC:                         2.300e+05\n",
      "Df Residuals:                   16470   BIC:                         2.300e+05\n",
      "Df Model:                           2                                         \n",
      "Covariance Type:            nonrobust                                         \n",
      "================================================================================================\n",
      "                                   coef    std err          t      P>|t|      [0.025      0.975]\n",
      "------------------------------------------------------------------------------------------------\n",
      "Recorded_Message_Or_Robocall   360.5242      3.493    103.214      0.000     353.678     367.371\n",
      "Consumer_State                   9.5741      0.106     90.739      0.000       9.367       9.781\n",
      "==============================================================================\n",
      "Omnibus:                      222.746   Durbin-Watson:                   1.695\n",
      "Prob(Omnibus):                  0.000   Jarque-Bera (JB):              212.899\n",
      "Skew:                           0.247   Prob(JB):                     5.88e-47\n",
      "Kurtosis:                       2.742   Cond. No.                         49.3\n",
      "==============================================================================\n",
      "\n",
      "Warnings:\n",
      "[1] Standard Errors assume that the covariance matrix of the errors is correctly specified.\n"
     ]
    }
   ],
   "source": [
    "#OLS Regression Results for Testing2 Data\n",
    "# Add a constant to our existing dataframe for modeling purposes\n",
    "modifiedsubmit = sm.add_constant(modifiedsubmit)\n",
    "\n",
    "est = sm.OLS(modifiedsubmit['Consumer_Area_Code'], \n",
    "             submit1_features[['Recorded_Message_Or_Robocall', 'Consumer_State']]\n",
    "            ).fit()\n",
    "\n",
    "print(est.summary())"
   ]
  },
  {
   "cell_type": "code",
   "execution_count": 20,
   "metadata": {},
   "outputs": [
    {
     "name": "stdout",
     "output_type": "stream",
     "text": [
      "                            OLS Regression Results                            \n",
      "==============================================================================\n",
      "Dep. Variable:     Consumer_Area_Code   R-squared:                       0.723\n",
      "Model:                            OLS   Adj. R-squared:                  0.723\n",
      "Method:                 Least Squares   F-statistic:                 3.852e+04\n",
      "Date:                Tue, 26 Nov 2019   Prob (F-statistic):               0.00\n",
      "Time:                        12:13:52   Log-Likelihood:            -2.1381e+05\n",
      "No. Observations:               29533   AIC:                         4.276e+05\n",
      "Df Residuals:                   29531   BIC:                         4.276e+05\n",
      "Df Model:                           2                                         \n",
      "Covariance Type:            nonrobust                                         \n",
      "================================================================================================\n",
      "                                   coef    std err          t      P>|t|      [0.025      0.975]\n",
      "------------------------------------------------------------------------------------------------\n",
      "Recorded_Message_Or_Robocall   351.9457      3.313    106.235      0.000     345.452     358.439\n",
      "Consumer_State                  10.0924      0.099    101.894      0.000       9.898      10.287\n",
      "==============================================================================\n",
      "Omnibus:                      560.158   Durbin-Watson:                   1.782\n",
      "Prob(Omnibus):                  0.000   Jarque-Bera (JB):              331.382\n",
      "Skew:                           0.094   Prob(JB):                     1.10e-72\n",
      "Kurtosis:                       2.516   Cond. No.                         48.1\n",
      "==============================================================================\n",
      "\n",
      "Warnings:\n",
      "[1] Standard Errors assume that the covariance matrix of the errors is correctly specified.\n"
     ]
    }
   ],
   "source": [
    "#OLS Regression Results for Training Data\n",
    "# Add a constant to our existing dataframe for modeling purposes\n",
    "master_df = sm.add_constant(master_df)\n",
    "\n",
    "est = sm.OLS(master_df['Consumer_Area_Code'], \n",
    "             master_features[['Recorded_Message_Or_Robocall', 'Consumer_State']]\n",
    "            ).fit()\n",
    "\n",
    "print(est.summary())"
   ]
  },
  {
   "cell_type": "code",
   "execution_count": null,
   "metadata": {},
   "outputs": [],
   "source": []
  }
 ],
 "metadata": {
  "colab": {
   "collapsed_sections": [],
   "name": "RentAdvisor.ipynb",
   "provenance": []
  },
  "kernelspec": {
   "display_name": "Python 3",
   "language": "python",
   "name": "python3"
  },
  "language_info": {
   "codemirror_mode": {
    "name": "ipython",
    "version": 3
   },
   "file_extension": ".py",
   "mimetype": "text/x-python",
   "name": "python",
   "nbconvert_exporter": "python",
   "pygments_lexer": "ipython3",
   "version": "3.6.5"
  }
 },
 "nbformat": 4,
 "nbformat_minor": 1
}
